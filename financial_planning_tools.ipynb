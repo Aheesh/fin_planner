{
 "cells": [
  {
   "cell_type": "markdown",
   "metadata": {},
   "source": [
    "# Financial Planning with APIs and Simulations\n",
    "\n",
    "In this Challenge, you’ll create two financial analysis tools by using a single Jupyter notebook:\n",
    "\n",
    "Part 1: A financial planner for emergencies. The members will be able to use this tool to visualize their current savings. The members can then determine if they have enough reserves for an emergency fund.\n",
    "\n",
    "Part 2: A financial planner for retirement. This tool will forecast the performance of their retirement portfolio in 30 years. To do this, the tool will make an Alpaca API call via the Alpaca SDK to get historical price data for use in Monte Carlo simulations.\n",
    "\n",
    "You’ll use the information from the Monte Carlo simulation to answer questions about the portfolio in your Jupyter notebook.\n",
    "\n"
   ]
  },
  {
   "cell_type": "code",
   "execution_count": 1,
   "metadata": {},
   "outputs": [],
   "source": [
    "# Import the required libraries and dependencies\n",
    "import os\n",
    "import requests\n",
    "import json\n",
    "import pandas as pd\n",
    "from dotenv import load_dotenv\n",
    "import alpaca_trade_api as tradeapi\n",
    "from MCForecastTools import MCSimulation\n",
    "\n",
    "%matplotlib inline"
   ]
  },
  {
   "cell_type": "code",
   "execution_count": 2,
   "metadata": {},
   "outputs": [
    {
     "data": {
      "text/plain": [
       "True"
      ]
     },
     "execution_count": 2,
     "metadata": {},
     "output_type": "execute_result"
    }
   ],
   "source": [
    "# Load the environment variables from the .env file\n",
    "#by calling the load_dotenv function\n",
    "load_dotenv()"
   ]
  },
  {
   "cell_type": "markdown",
   "metadata": {},
   "source": [
    "## Part 1: Create a Financial Planner for Emergencies"
   ]
  },
  {
   "cell_type": "markdown",
   "metadata": {},
   "source": [
    "### Evaluate the Cryptocurrency Wallet by Using the Requests Library\n",
    "\n",
    "In this section, you’ll determine the current value of a member’s cryptocurrency wallet. You’ll collect the current prices for the Bitcoin and Ethereum cryptocurrencies by using the Python Requests library. For the prototype, you’ll assume that the member holds the 1.2 Bitcoins (BTC) and 5.3 Ethereum coins (ETH). To do all this, complete the following steps:\n",
    "\n",
    "1. Create a variable named `monthly_income`, and set its value to `12000`.\n",
    "\n",
    "2. Use the Requests library to get the current price (in US dollars) of Bitcoin (BTC) and Ethereum (ETH) by using the API endpoints that the starter code supplies.\n",
    "\n",
    "3. Navigate the JSON response object to access the current price of each coin, and store each in a variable.\n",
    "\n",
    "    > **Hint** Note the specific identifier for each cryptocurrency in the API JSON response. The Bitcoin identifier is `1`, and the Ethereum identifier is `1027`.\n",
    "\n",
    "4. Calculate the value, in US dollars, of the current amount of each cryptocurrency and of the entire cryptocurrency wallet.\n",
    "\n"
   ]
  },
  {
   "cell_type": "code",
   "execution_count": 3,
   "metadata": {},
   "outputs": [],
   "source": [
    "# The current number of coins for each cryptocurrency asset held in the portfolio.\n",
    "btc_coins = 1.2\n",
    "eth_coins = 5.3"
   ]
  },
  {
   "cell_type": "markdown",
   "metadata": {},
   "source": [
    "#### Step 1: Create a variable named `monthly_income`, and set its value to `12000`."
   ]
  },
  {
   "cell_type": "code",
   "execution_count": 4,
   "metadata": {},
   "outputs": [],
   "source": [
    "# The monthly amount for the member's household income\n",
    "monthly_income=12000\n"
   ]
  },
  {
   "cell_type": "markdown",
   "metadata": {},
   "source": [
    "#### Review the endpoint URLs for the API calls to Free Crypto API in order to get the current pricing information for both BTC and ETH."
   ]
  },
  {
   "cell_type": "code",
   "execution_count": 11,
   "metadata": {},
   "outputs": [],
   "source": [
    "# The Free Crypto API Call endpoint URLs for the held cryptocurrency assets\n",
    "btc_url = \"https://api.alternative.me/v2/ticker/Bitcoin/?convert=USD\"\n",
    "eth_url = \"https://api.alternative.me/v2/ticker/Ethereum/?convert=USD\""
   ]
  },
  {
   "cell_type": "markdown",
   "metadata": {},
   "source": [
    "#### Step 2. Use the Requests library to get the current price (in US dollars) of Bitcoin (BTC) and Ethereum (ETH) by using the API endpoints that the starter code supplied."
   ]
  },
  {
   "cell_type": "code",
   "execution_count": 6,
   "metadata": {},
   "outputs": [
    {
     "name": "stdout",
     "output_type": "stream",
     "text": [
      "{\n",
      "    \"data\": {\n",
      "        \"1\": {\n",
      "            \"circulating_supply\": 18860162,\n",
      "            \"id\": 1,\n",
      "            \"last_updated\": 1635717478,\n",
      "            \"max_supply\": 21000000,\n",
      "            \"name\": \"Bitcoin\",\n",
      "            \"quotes\": {\n",
      "                \"USD\": {\n",
      "                    \"market_cap\": 1160946719105,\n",
      "                    \"percent_change_1h\": 0.827291482895546,\n",
      "                    \"percent_change_24h\": -0.205230683551911,\n",
      "                    \"percent_change_7d\": -0.0117252949865698,\n",
      "                    \"percentage_change_1h\": 0.827291482895546,\n",
      "                    \"percentage_change_24h\": -0.205230683551911,\n",
      "                    \"percentage_change_7d\": -0.0117252949865698,\n",
      "                    \"price\": 61565.0,\n",
      "                    \"volume_24h\": 33082860440\n",
      "                }\n",
      "            },\n",
      "            \"rank\": 1,\n",
      "            \"symbol\": \"BTC\",\n",
      "            \"total_supply\": 18860162,\n",
      "            \"website_slug\": \"bitcoin\"\n",
      "        }\n",
      "    },\n",
      "    \"metadata\": {\n",
      "        \"error\": null,\n",
      "        \"num_cryptocurrencies\": 3105,\n",
      "        \"timestamp\": 1635717478\n",
      "    }\n",
      "}\n"
     ]
    }
   ],
   "source": [
    "# Using the Python requests library, make an API call to access the current price of BTC\n",
    "btc_response = requests.get(btc_url)\n",
    "\n",
    "# Use the json.dumps function to review the response data from the API call\n",
    "# Use the indent and sort_keys parameters to make the response object readable\n",
    "# Checking for valid success response code before printing the data fetched from API call.\n",
    "if btc_response.status_code == 200:\n",
    "    btc_response=btc_response.json()\n",
    "    print(json.dumps(btc_response,indent=4,sort_keys=True))\n",
    "else:\n",
    "    print(\"API response error: Could not get latest info on BTC\")\n"
   ]
  },
  {
   "cell_type": "code",
   "execution_count": 12,
   "metadata": {},
   "outputs": [
    {
     "name": "stdout",
     "output_type": "stream",
     "text": [
      "{\n",
      "    \"data\": {\n",
      "        \"1027\": {\n",
      "            \"circulating_supply\": 118156274,\n",
      "            \"id\": 1027,\n",
      "            \"last_updated\": 1635717513,\n",
      "            \"max_supply\": 0,\n",
      "            \"name\": \"Ethereum\",\n",
      "            \"quotes\": {\n",
      "                \"USD\": {\n",
      "                    \"market_cap\": 509842602180,\n",
      "                    \"percent_change_1h\": 1.00520207189524,\n",
      "                    \"percent_change_24h\": 0.185924431047096,\n",
      "                    \"percent_change_7d\": 3.26310084438667,\n",
      "                    \"percentage_change_1h\": 1.00520207189524,\n",
      "                    \"percentage_change_24h\": 0.185924431047096,\n",
      "                    \"percentage_change_7d\": 3.26310084438667,\n",
      "                    \"price\": 4315.82,\n",
      "                    \"volume_24h\": 18969273081\n",
      "                }\n",
      "            },\n",
      "            \"rank\": 2,\n",
      "            \"symbol\": \"ETH\",\n",
      "            \"total_supply\": 118156274,\n",
      "            \"website_slug\": \"ethereum\"\n",
      "        }\n",
      "    },\n",
      "    \"metadata\": {\n",
      "        \"error\": null,\n",
      "        \"num_cryptocurrencies\": 3105,\n",
      "        \"timestamp\": 1635717513\n",
      "    }\n",
      "}\n"
     ]
    }
   ],
   "source": [
    "# Using the Python requests library, make an API call to access the current price ETH\n",
    "eth_response =requests.get(eth_url)\n",
    "\n",
    "# Use the json.dumps function to review the response data from the API call\n",
    "# Use the indent and sort_keys parameters to make the response object readable\n",
    "# Checking for valid success response code before printing the data fetched from API call.\n",
    "if eth_response.status_code == 200:\n",
    "    eth_response=eth_response.json()\n",
    "    print(json.dumps(eth_response,indent=4,sort_keys=True))\n",
    "else:\n",
    "    print(\"API response error: Could not get the latest info for ETH\")\n"
   ]
  },
  {
   "cell_type": "markdown",
   "metadata": {},
   "source": [
    "#### Step 3: Navigate the JSON response object to access the current price of each coin, and store each in a variable."
   ]
  },
  {
   "cell_type": "code",
   "execution_count": 15,
   "metadata": {},
   "outputs": [
    {
     "name": "stdout",
     "output_type": "stream",
     "text": [
      "The current price of BTC in USD=$61565.0\n"
     ]
    }
   ],
   "source": [
    "# Navigate the BTC response object to access the current price of BTC\n",
    "btc_price = btc_response['data']['1']['quotes']['USD']['price']\n",
    "\n",
    "# Print the current price of BTC\n",
    "print(f\"The current price of BTC in USD=${btc_price}\")"
   ]
  },
  {
   "cell_type": "code",
   "execution_count": 16,
   "metadata": {},
   "outputs": [
    {
     "name": "stdout",
     "output_type": "stream",
     "text": [
      "The current price of ETH in USD=$4315.82\n"
     ]
    }
   ],
   "source": [
    "# Navigate the BTC response object to access the current price of ETH\n",
    "eth_price = eth_response['data']['1027']['quotes']['USD']['price']\n",
    "\n",
    "# Print the current price of ETH\n",
    "print(f\"The current price of ETH in USD=${eth_price}\")\n"
   ]
  },
  {
   "cell_type": "markdown",
   "metadata": {},
   "source": [
    "### Step 4: Calculate the value, in US dollars, of the current amount of each cryptocurrency and of the entire cryptocurrency wallet."
   ]
  },
  {
   "cell_type": "code",
   "execution_count": 29,
   "metadata": {},
   "outputs": [
    {
     "name": "stdout",
     "output_type": "stream",
     "text": [
      "The current value of your holding of 1.2BTC in USD = $73878.0\n"
     ]
    }
   ],
   "source": [
    "# Compute the current value of the BTC holding \n",
    "btc_value = btc_coins * btc_price\n",
    "\n",
    "# Print current value of your holding in BTC\n",
    "print(f\"The current value of your holding of {btc_coins}BTC in USD = ${btc_value:}\")\n"
   ]
  },
  {
   "cell_type": "code",
   "execution_count": 31,
   "metadata": {},
   "outputs": [
    {
     "name": "stdout",
     "output_type": "stream",
     "text": [
      "The current value of your holding of 5.3ETH in USD = $22873.846000\n"
     ]
    }
   ],
   "source": [
    "# Compute the current value of the ETH holding \n",
    "eth_value = eth_coins* eth_price\n",
    "\n",
    "# Print current value of your holding in ETH\n",
    "print(f\"The current value of your holding of {eth_coins}ETH in USD = ${eth_value:1f}\")\n"
   ]
  },
  {
   "cell_type": "code",
   "execution_count": 33,
   "metadata": {},
   "outputs": [
    {
     "name": "stdout",
     "output_type": "stream",
     "text": [
      "The current cryptocurrency wallet balance in USD = $96751.846000\n"
     ]
    }
   ],
   "source": [
    "# Compute the total value of the cryptocurrency wallet\n",
    "# Add the value of the BTC holding to the value of the ETH holding\n",
    "total_crypto_wallet = btc_value + eth_value\n",
    "\n",
    "# Print current cryptocurrency wallet balance\n",
    "print(f\"The current cryptocurrency wallet balance in USD = ${total_crypto_wallet:2f}\")\n"
   ]
  },
  {
   "cell_type": "markdown",
   "metadata": {},
   "source": [
    "### Evaluate the Stock and Bond Holdings by Using the Alpaca SDK\n",
    "\n",
    "In this section, you’ll determine the current value of a member’s stock and bond holdings. You’ll make an API call to Alpaca via the Alpaca SDK to get the current closing prices of the SPDR S&P 500 ETF Trust (ticker: SPY) and of the iShares Core US Aggregate Bond ETF (ticker: AGG). For the prototype, assume that the member holds 110 shares of SPY, which represents the stock portion of their portfolio, and 200 shares of AGG, which represents the bond portion. To do all this, complete the following steps:\n",
    "\n",
    "1. In the `Starter_Code` folder, create an environment file (`.env`) to store the values of your Alpaca API key and Alpaca secret key.\n",
    "\n",
    "2. Set the variables for the Alpaca API and secret keys. Using the Alpaca SDK, create the Alpaca `tradeapi.REST` object. In this object, include the parameters for the Alpaca API key, the secret key, and the version number.\n",
    "\n",
    "3. Set the following parameters for the Alpaca API call:\n",
    "\n",
    "    - `tickers`: Use the tickers for the member’s stock and bond holdings.\n",
    "\n",
    "    - `timeframe`: Use a time frame of one day.\n",
    "\n",
    "    - `start_date` and `end_date`: Use the same date for these parameters, and format them with the date of the previous weekday (or `2020-08-07`). This is because you want the one closing price for the most-recent trading day.\n",
    "\n",
    "4. Get the current closing prices for `SPY` and `AGG` by using the Alpaca `get_barset` function. Format the response as a Pandas DataFrame by including the `df` property at the end of the `get_barset` function.\n",
    "\n",
    "5. Navigating the Alpaca response DataFrame, select the `SPY` and `AGG` closing prices, and store them as variables.\n",
    "\n",
    "6. Calculate the value, in US dollars, of the current amount of shares in each of the stock and bond portions of the portfolio, and print the results.\n"
   ]
  },
  {
   "cell_type": "markdown",
   "metadata": {},
   "source": [
    "#### Review the total number of shares held in both (SPY) and (AGG)."
   ]
  },
  {
   "cell_type": "code",
   "execution_count": 55,
   "metadata": {},
   "outputs": [],
   "source": [
    "# Current amount of shares held in both the stock (SPY) and bond (AGG) portion of the portfolio.\n",
    "spy_shares = 110\n",
    "agg_shares = 200\n"
   ]
  },
  {
   "cell_type": "markdown",
   "metadata": {},
   "source": [
    "#### Step 1: In the `Starter_Code` folder, create an environment file (`.env`) to store the values of your Alpaca API key and Alpaca secret key."
   ]
  },
  {
   "cell_type": "markdown",
   "metadata": {},
   "source": [
    "#### Step 2: Set the variables for the Alpaca API and secret keys. Using the Alpaca SDK, create the Alpaca `tradeapi.REST` object. In this object, include the parameters for the Alpaca API key, the secret key, and the version number."
   ]
  },
  {
   "cell_type": "code",
   "execution_count": 56,
   "metadata": {},
   "outputs": [],
   "source": [
    "# Set the variables for the Alpaca API and secret keys\n",
    "alpaca_api_key = os.getenv('ALPACA_API_KEY')\n",
    "alpaca_secret_key= os.getenv('ALPACA_SECRET_KEY')\n",
    "\n",
    "# Create the Alpaca tradeapi.REST object\n",
    "alpaca=tradeapi.REST(alpaca_api_key,alpaca_secret_key,api_version=\"v2\")\n"
   ]
  },
  {
   "cell_type": "markdown",
   "metadata": {},
   "source": [
    "#### Step 3: Set the following parameters for the Alpaca API call:\n",
    "\n",
    "- `tickers`: Use the tickers for the member’s stock and bond holdings.\n",
    "\n",
    "- `timeframe`: Use a time frame of one day.\n",
    "\n",
    "- `start_date` and `end_date`: Use the same date for these parameters, and format them with the date of the previous weekday (or `2020-08-07`). This is because you want the one closing price for the most-recent trading day.\n"
   ]
  },
  {
   "cell_type": "code",
   "execution_count": 57,
   "metadata": {},
   "outputs": [],
   "source": [
    "# Set the tickers for both the bond and stock portion of the portfolio\n",
    "tickers=['SPY','AGG']\n",
    "\n",
    "# Set timeframe to 1D \n",
    "timeframe='1D'\n",
    "\n",
    "# Format current date as ISO format\n",
    "# Set both the start and end date at the date of your prior weekday \n",
    "# This will give you the closing price of the previous trading day\n",
    "# Alternatively you can use a start and end date of 2020-08-07\n",
    "start_date=pd.Timestamp(\"2021-10-29\",tz=\"America/New_York\").isoformat()\n",
    "end_date=pd.Timestamp(\"2021-10-29\",tz=\"America/New_York\").isoformat()\n"
   ]
  },
  {
   "cell_type": "markdown",
   "metadata": {},
   "source": [
    "#### Step 4: Get the current closing prices for `SPY` and `AGG` by using the Alpaca `get_barset` function. Format the response as a Pandas DataFrame by including the `df` property at the end of the `get_barset` function."
   ]
  },
  {
   "cell_type": "code",
   "execution_count": 58,
   "metadata": {},
   "outputs": [
    {
     "data": {
      "text/html": [
       "<div>\n",
       "<style scoped>\n",
       "    .dataframe tbody tr th:only-of-type {\n",
       "        vertical-align: middle;\n",
       "    }\n",
       "\n",
       "    .dataframe tbody tr th {\n",
       "        vertical-align: top;\n",
       "    }\n",
       "\n",
       "    .dataframe thead tr th {\n",
       "        text-align: left;\n",
       "    }\n",
       "\n",
       "    .dataframe thead tr:last-of-type th {\n",
       "        text-align: right;\n",
       "    }\n",
       "</style>\n",
       "<table border=\"1\" class=\"dataframe\">\n",
       "  <thead>\n",
       "    <tr>\n",
       "      <th></th>\n",
       "      <th colspan=\"5\" halign=\"left\">AGG</th>\n",
       "      <th colspan=\"5\" halign=\"left\">SPY</th>\n",
       "    </tr>\n",
       "    <tr>\n",
       "      <th></th>\n",
       "      <th>open</th>\n",
       "      <th>high</th>\n",
       "      <th>low</th>\n",
       "      <th>close</th>\n",
       "      <th>volume</th>\n",
       "      <th>open</th>\n",
       "      <th>high</th>\n",
       "      <th>low</th>\n",
       "      <th>close</th>\n",
       "      <th>volume</th>\n",
       "    </tr>\n",
       "    <tr>\n",
       "      <th>time</th>\n",
       "      <th></th>\n",
       "      <th></th>\n",
       "      <th></th>\n",
       "      <th></th>\n",
       "      <th></th>\n",
       "      <th></th>\n",
       "      <th></th>\n",
       "      <th></th>\n",
       "      <th></th>\n",
       "      <th></th>\n",
       "    </tr>\n",
       "  </thead>\n",
       "  <tbody>\n",
       "    <tr>\n",
       "      <th>2021-10-29 00:00:00-04:00</th>\n",
       "      <td>114.35</td>\n",
       "      <td>114.78</td>\n",
       "      <td>114.35</td>\n",
       "      <td>114.62</td>\n",
       "      <td>7051614</td>\n",
       "      <td>455.87</td>\n",
       "      <td>459.56</td>\n",
       "      <td>455.56</td>\n",
       "      <td>459.22</td>\n",
       "      <td>58813207</td>\n",
       "    </tr>\n",
       "  </tbody>\n",
       "</table>\n",
       "</div>"
      ],
      "text/plain": [
       "                              AGG                                      SPY  \\\n",
       "                             open    high     low   close   volume    open   \n",
       "time                                                                         \n",
       "2021-10-29 00:00:00-04:00  114.35  114.78  114.35  114.62  7051614  455.87   \n",
       "\n",
       "                                                             \n",
       "                             high     low   close    volume  \n",
       "time                                                         \n",
       "2021-10-29 00:00:00-04:00  459.56  455.56  459.22  58813207  "
      ]
     },
     "execution_count": 58,
     "metadata": {},
     "output_type": "execute_result"
    }
   ],
   "source": [
    "# Use the Alpaca get_barset function to get current closing prices the portfolio\n",
    "# Be sure to set the `df` property after the function to format the response object as a DataFrame\n",
    "closing_price_df=alpaca.get_barset(tickers,timeframe,limit=1000,start=start_date, end=end_date).df\n",
    "\n",
    "# Review the first 5 rows of the Alpaca DataFrame\n",
    "closing_price_df.head()\n"
   ]
  },
  {
   "cell_type": "markdown",
   "metadata": {},
   "source": [
    "#### Step 5: Navigating the Alpaca response DataFrame, select the `SPY` and `AGG` closing prices, and store them as variables."
   ]
  },
  {
   "cell_type": "code",
   "execution_count": 59,
   "metadata": {},
   "outputs": [
    {
     "name": "stdout",
     "output_type": "stream",
     "text": [
      "The AGG closing price in USD = $114.62\n"
     ]
    }
   ],
   "source": [
    "# Access the closing price for AGG from the Alpaca DataFrame\n",
    "# Converting the value to a floating point number\n",
    "agg_close_price = closing_price_df[\"AGG\"]['close']\n",
    "\n",
    "agg_close_price.index=agg_close_price.index.date\n",
    "\n",
    "# Print the AGG closing price\n",
    "print(f\"The AGG closing price in USD = ${agg_close_price[0]}\")\n"
   ]
  },
  {
   "cell_type": "code",
   "execution_count": 60,
   "metadata": {},
   "outputs": [
    {
     "name": "stdout",
     "output_type": "stream",
     "text": [
      "The SPY closing price in USD = $459.22\n"
     ]
    }
   ],
   "source": [
    "# Access the closing price for SPY from the Alpaca DataFrame\n",
    "# Converting the value to a floating point number\n",
    "spy_close_price = closing_price_df[\"SPY\"]['close']\n",
    "\n",
    "spy_close_price.index=spy_close_price.index.date\n",
    "\n",
    "# Print the SPY closing price\n",
    "print(f\"The SPY closing price in USD = ${spy_close_price[0]}\")\n"
   ]
  },
  {
   "cell_type": "markdown",
   "metadata": {},
   "source": [
    "#### Step 6: Calculate the value, in US dollars, of the current amount of shares in each of the stock and bond portions of the portfolio, and print the results."
   ]
  },
  {
   "cell_type": "code",
   "execution_count": 61,
   "metadata": {},
   "outputs": [
    {
     "name": "stdout",
     "output_type": "stream",
     "text": [
      "The current value of the bond portfolio in USD =$22924.0\n"
     ]
    }
   ],
   "source": [
    "# Calculate the current value of the bond portion of the portfolio\n",
    "agg_value = agg_shares*agg_close_price[0]\n",
    "\n",
    "# Print the current value of the bond portfolio\n",
    "print(f\"The current value of the bond portfolio in USD =${agg_value}\")\n"
   ]
  },
  {
   "cell_type": "code",
   "execution_count": 63,
   "metadata": {},
   "outputs": [
    {
     "name": "stdout",
     "output_type": "stream",
     "text": [
      " The current value of the stock portfolio in USD =$50514.200000\n"
     ]
    }
   ],
   "source": [
    "# Calculate the current value of the stock portion of the portfolio\n",
    "spy_value = spy_shares*spy_close_price[0]\n",
    "\n",
    "# Print the current value of the stock portfolio\n",
    "print (f\" The current value of the stock portfolio in USD =${spy_value:2f}\")\n"
   ]
  },
  {
   "cell_type": "code",
   "execution_count": 65,
   "metadata": {},
   "outputs": [
    {
     "name": "stdout",
     "output_type": "stream",
     "text": [
      "The current balance of the stock and bond portion of the portfolio in USD = $73438.200000\n"
     ]
    }
   ],
   "source": [
    "# Calculate the total value of the stock and bond portion of the portfolio\n",
    "total_stocks_bonds = agg_value + spy_value\n",
    "\n",
    "# Print the current balance of the stock and bond portion of the portfolio\n",
    "print(f\"The current balance of the stock and bond portion of the portfolio in USD = ${total_stocks_bonds:2f}\")\n"
   ]
  },
  {
   "cell_type": "code",
   "execution_count": 78,
   "metadata": {},
   "outputs": [
    {
     "name": "stdout",
     "output_type": "stream",
     "text": [
      "The total value of the member's entire savings portfolio in USD = $170190.046. This includes current cryptocurrency wallet balance = $96751.846000,  and stock and bonds balance = $73438.200000\n"
     ]
    }
   ],
   "source": [
    "# Calculate the total value of the member's entire savings portfolio\n",
    "# Add the value of the cryptocurrency wallet to the value of the total stocks and bonds\n",
    "total_portfolio = total_crypto_wallet + total_stocks_bonds\n",
    "\n",
    "# Print current cryptocurrency wallet balance\n",
    "print(f\"The total value of the member's entire savings portfolio in USD = ${total_portfolio}. \"\n",
    "      f\"This includes current cryptocurrency wallet balance = ${total_crypto_wallet:2f},  \"\n",
    "       f\"and stock and bonds balance = ${total_stocks_bonds:2f}\")\n"
   ]
  },
  {
   "cell_type": "markdown",
   "metadata": {},
   "source": [
    "### Evaluate the Emergency Fund\n",
    "\n",
    "In this section, you’ll use the valuations for the cryptocurrency wallet and for the stock and bond portions of the portfolio to determine if the credit union member has enough savings to build an emergency fund into their financial plan. To do this, complete the following steps:\n",
    "\n",
    "1. Create a Python list named `savings_data` that has two elements. The first element contains the total value of the cryptocurrency wallet. The second element contains the total value of the stock and bond portions of the portfolio.\n",
    "\n",
    "2. Use the `savings_data` list to create a Pandas DataFrame named `savings_df`, and then display this DataFrame. The function to create the DataFrame should take the following three parameters:\n",
    "\n",
    "    - `savings_data`: Use the list that you just created.\n",
    "\n",
    "    - `columns`: Set this parameter equal to a Python list with a single value called `amount`.\n",
    "\n",
    "    - `index`: Set this parameter equal to a Python list with the values of `crypto` and `stock/bond`.\n",
    "\n",
    "3. Use the `savings_df` DataFrame to plot a pie chart that visualizes the composition of the member’s portfolio. The y-axis of the pie chart uses `amount`. Be sure to add a title.\n",
    "\n",
    "4. Using Python, determine if the current portfolio has enough to create an emergency fund as part of the member’s financial plan. Ideally, an emergency fund should equal to three times the member’s monthly income. To do this, implement the following steps:\n",
    "\n",
    "    1. Create a variable named `emergency_fund_value`, and set it equal to three times the value of the member’s `monthly_income` of $12000. (You set this earlier in Part 1).\n",
    "\n",
    "    2. Create a series of three if statements to determine if the member’s total portfolio is large enough to fund the emergency portfolio:\n",
    "\n",
    "        1. If the total portfolio value is greater than the emergency fund value, display a message congratulating the member for having enough money in this fund.\n",
    "\n",
    "        2. Else if the total portfolio value is equal to the emergency fund value, display a message congratulating the member on reaching this important financial goal.\n",
    "\n",
    "        3. Else the total portfolio is less than the emergency fund value, so display a message showing how many dollars away the member is from reaching the goal. (Subtract the total portfolio value from the emergency fund value.)\n"
   ]
  },
  {
   "cell_type": "markdown",
   "metadata": {},
   "source": [
    "#### Step 1: Create a Python list named `savings_data` that has two elements. The first element contains the total value of the cryptocurrency wallet. The second element contains the total value of the stock and bond portions of the portfolio."
   ]
  },
  {
   "cell_type": "code",
   "execution_count": 85,
   "metadata": {},
   "outputs": [
    {
     "data": {
      "text/plain": [
       "list"
      ]
     },
     "metadata": {},
     "output_type": "display_data"
    },
    {
     "data": {
      "text/plain": [
       "[96751.84599999999, 73438.20000000001]"
      ]
     },
     "metadata": {},
     "output_type": "display_data"
    }
   ],
   "source": [
    "# Consolidate financial assets data into a Python list\n",
    "savings_data=list()\n",
    "savings_data.insert(0,total_crypto_wallet)\n",
    "savings_data.insert(1,total_stocks_bonds)\n",
    "\n",
    "# Review the Python list savings_data\n",
    "display(type(savings_data))\n",
    "display(savings_data)    "
   ]
  },
  {
   "cell_type": "markdown",
   "metadata": {},
   "source": [
    "#### Step 2: Use the `savings_data` list to create a Pandas DataFrame named `savings_df`, and then display this DataFrame. The function to create the DataFrame should take the following three parameters:\n",
    "\n",
    "- `savings_data`: Use the list that you just created.\n",
    "\n",
    "- `columns`: Set this parameter equal to a Python list with a single value called `amount`.\n",
    "\n",
    "- `index`: Set this parameter equal to a Python list with the values of `crypto` and `stock/bond`.\n"
   ]
  },
  {
   "cell_type": "code",
   "execution_count": 86,
   "metadata": {},
   "outputs": [
    {
     "data": {
      "text/plain": [
       "pandas.core.frame.DataFrame"
      ]
     },
     "metadata": {},
     "output_type": "display_data"
    },
    {
     "data": {
      "text/html": [
       "<div>\n",
       "<style scoped>\n",
       "    .dataframe tbody tr th:only-of-type {\n",
       "        vertical-align: middle;\n",
       "    }\n",
       "\n",
       "    .dataframe tbody tr th {\n",
       "        vertical-align: top;\n",
       "    }\n",
       "\n",
       "    .dataframe thead th {\n",
       "        text-align: right;\n",
       "    }\n",
       "</style>\n",
       "<table border=\"1\" class=\"dataframe\">\n",
       "  <thead>\n",
       "    <tr style=\"text-align: right;\">\n",
       "      <th></th>\n",
       "      <th>amount</th>\n",
       "    </tr>\n",
       "  </thead>\n",
       "  <tbody>\n",
       "    <tr>\n",
       "      <th>crypto</th>\n",
       "      <td>96751.846</td>\n",
       "    </tr>\n",
       "    <tr>\n",
       "      <th>stock/bond</th>\n",
       "      <td>73438.200</td>\n",
       "    </tr>\n",
       "  </tbody>\n",
       "</table>\n",
       "</div>"
      ],
      "text/plain": [
       "               amount\n",
       "crypto      96751.846\n",
       "stock/bond  73438.200"
      ]
     },
     "metadata": {},
     "output_type": "display_data"
    }
   ],
   "source": [
    "# Create a Pandas DataFrame called savings_df \n",
    "savings_df=pd.DataFrame(savings_data,index=['crypto','stock/bond'],columns=['amount'])\n",
    "\n",
    "# Display the savings_df DataFrame\n",
    "display(type(savings_df))\n",
    "display(savings_df)\n"
   ]
  },
  {
   "cell_type": "markdown",
   "metadata": {},
   "source": [
    "#### Step 3: Use the `savings_df` DataFrame to plot a pie chart that visualizes the composition of the member’s portfolio. The y-axis of the pie chart uses `amount`. Be sure to add a title."
   ]
  },
  {
   "cell_type": "code",
   "execution_count": 87,
   "metadata": {},
   "outputs": [
    {
     "data": {
      "text/plain": [
       "<AxesSubplot:title={'center':\"Total value of member's portfolio (Crypto & Stock/Bond)\"}, ylabel='amount'>"
      ]
     },
     "execution_count": 87,
     "metadata": {},
     "output_type": "execute_result"
    },
    {
     "data": {
      "image/png": "[encoded data removed]",
      "text/plain": [
       "<Figure size 360x360 with 1 Axes>"
      ]
     },
     "metadata": {},
     "output_type": "display_data"
    }
   ],
   "source": [
    "# Plot the total value of the member's portfolio (crypto and stock/bond) in a pie chart\n",
    "savings_df.plot.pie(y='amount',figsize=(5,5),title=\"Total value of member's portfolio (Crypto & Stock/Bond)\")"
   ]
  },
  {
   "cell_type": "markdown",
   "metadata": {},
   "source": [
    "#### Step 4: Using Python, determine if the current portfolio has enough to create an emergency fund as part of the member’s financial plan. Ideally, an emergency fund should equal to three times the member’s monthly income. To do this, implement the following steps:\n",
    "\n",
    "Step 1. Create a variable named `emergency_fund_value`, and set it equal to three times the value of the member’s `monthly_income` of 12000. (You set this earlier in Part 1).\n",
    "\n",
    "Step 2. Create a series of three if statements to determine if the member’s total portfolio is large enough to fund the emergency portfolio:\n",
    "\n",
    "* If the total portfolio value is greater than the emergency fund value, display a message congratulating the member for having enough money in this fund.\n",
    "\n",
    "* Else if the total portfolio value is equal to the emergency fund value, display a message congratulating the member on reaching this important financial goal.\n",
    "\n",
    "* Else the total portfolio is less than the emergency fund value, so display a message showing how many dollars away the member is from reaching the goal. (Subtract the total portfolio value from the emergency fund value.)\n"
   ]
  },
  {
   "cell_type": "markdown",
   "metadata": {},
   "source": [
    "##### Step 4-1: Create a variable named `emergency_fund_value`, and set it equal to three times the value of the member’s `monthly_income` of 12000. (You set this earlier in Part 1)."
   ]
  },
  {
   "cell_type": "code",
   "execution_count": 88,
   "metadata": {},
   "outputs": [
    {
     "data": {
      "text/plain": [
       "36000"
      ]
     },
     "metadata": {},
     "output_type": "display_data"
    }
   ],
   "source": [
    "# Create a variable named emergency_fund_value\n",
    "emergency_fund_value=3*monthly_income\n",
    "\n",
    "display(emergency_fund_value)\n"
   ]
  },
  {
   "cell_type": "markdown",
   "metadata": {},
   "source": [
    "##### Step 4-2: Create a series of three if statements to determine if the member’s total portfolio is large enough to fund the emergency portfolio:\n",
    "\n",
    "* If the total portfolio value is greater than the emergency fund value, display a message congratulating the member for having enough money in this fund.\n",
    "\n",
    "* Else if the total portfolio value is equal to the emergency fund value, display a message congratulating the member on reaching this important financial goal.\n",
    "\n",
    "* Else the total portfolio is less than the emergency fund value, so display a message showing how many dollars away the member is from reaching the goal. (Subtract the total portfolio value from the emergency fund value.)"
   ]
  },
  {
   "cell_type": "code",
   "execution_count": 93,
   "metadata": {},
   "outputs": [
    {
     "name": "stdout",
     "output_type": "stream",
     "text": [
      "Congratulations! Great job saving more than 3 times your monthly income keep it up.\n"
     ]
    }
   ],
   "source": [
    "# Evaluate the possibility of creating an emergency fund with 3 conditions:\n",
    "if(emergency_fund_value<total_portfolio):\n",
    "    print(f\"Congratulations! Great job saving more than 3 times your monthly income keep it up.\")\n",
    "elif(emergency_fund_value == total_portfolio):\n",
    "    print(f\"Congratulations! You have reached an important milestone of saving 3 your monthly income.\")\n",
    "elif(emergency_fund_value>total_portfolio):\n",
    "    print(f\"Keep going you are {emergency_fund_value-total_portfolio} $ away from the next important milestone\")\n",
    "else:\n",
    "    print(\"If you see this message. The if-else logic needs to be revisited\")"
   ]
  },
  {
   "cell_type": "markdown",
   "metadata": {},
   "source": [
    "## Part 2: Create a Financial Planner for Retirement"
   ]
  },
  {
   "cell_type": "markdown",
   "metadata": {},
   "source": [
    "### Create the Monte Carlo Simulation\n",
    "\n",
    "In this section, you’ll use the MCForecastTools library to create a Monte Carlo simulation for the member’s savings portfolio. To do this, complete the following steps:\n",
    "\n",
    "1. Make an API call via the Alpaca SDK to get 3 years of historical closing prices for a traditional 60/40 portfolio split: 60% stocks (SPY) and 40% bonds (AGG).\n",
    "\n",
    "2. Run a Monte Carlo simulation of 500 samples and 30 years for the 60/40 portfolio, and then plot the results.The following image shows the overlay line plot resulting from a simulation with these characteristics. However, because a random number generator is used to run each live Monte Carlo simulation, your image will differ slightly from this exact image:\n",
    "\n",
    "![A screenshot depicts the resulting plot.](Images/5-4-monte-carlo-line-plot.png)\n",
    "\n",
    "3. Plot the probability distribution of the Monte Carlo simulation. Plot the probability distribution of the Monte Carlo simulation. The following image shows the histogram plot resulting from a simulation with these characteristics. However, because a random number generator is used to run each live Monte Carlo simulation, your image will differ slightly from this exact image:\n",
    "\n",
    "![A screenshot depicts the histogram plot.](Images/5-4-monte-carlo-histogram.png)\n",
    "\n",
    "4. Generate the summary statistics for the Monte Carlo simulation.\n",
    "\n"
   ]
  },
  {
   "cell_type": "markdown",
   "metadata": {},
   "source": [
    "#### Step 1: Make an API call via the Alpaca SDK to get 3 years of historical closing prices for a traditional 60/40 portfolio split: 60% stocks (SPY) and 40% bonds (AGG)."
   ]
  },
  {
   "cell_type": "code",
   "execution_count": 95,
   "metadata": {},
   "outputs": [],
   "source": [
    "# Set start and end dates of 3 years back from your current date\n",
    "# Alternatively, you can use an end date of 2020-08-07 and work 3 years back from that date \n",
    "\n",
    "#Since end_date was already set to last weekday when market was open just setting the start_date\n",
    "start_date=pd.Timestamp(\"2018-10-29\",tz=\"America/New_york\").isoformat()\n",
    "\n",
    "# Set number of rows to 1000 to retrieve the maximum amount of rows\n",
    "limit_rows=1000"
   ]
  },
  {
   "cell_type": "code",
   "execution_count": 97,
   "metadata": {},
   "outputs": [
    {
     "data": {
      "text/html": [
       "<div>\n",
       "<style scoped>\n",
       "    .dataframe tbody tr th:only-of-type {\n",
       "        vertical-align: middle;\n",
       "    }\n",
       "\n",
       "    .dataframe tbody tr th {\n",
       "        vertical-align: top;\n",
       "    }\n",
       "\n",
       "    .dataframe thead tr th {\n",
       "        text-align: left;\n",
       "    }\n",
       "\n",
       "    .dataframe thead tr:last-of-type th {\n",
       "        text-align: right;\n",
       "    }\n",
       "</style>\n",
       "<table border=\"1\" class=\"dataframe\">\n",
       "  <thead>\n",
       "    <tr>\n",
       "      <th></th>\n",
       "      <th colspan=\"5\" halign=\"left\">AGG</th>\n",
       "      <th colspan=\"5\" halign=\"left\">SPY</th>\n",
       "    </tr>\n",
       "    <tr>\n",
       "      <th></th>\n",
       "      <th>open</th>\n",
       "      <th>high</th>\n",
       "      <th>low</th>\n",
       "      <th>close</th>\n",
       "      <th>volume</th>\n",
       "      <th>open</th>\n",
       "      <th>high</th>\n",
       "      <th>low</th>\n",
       "      <th>close</th>\n",
       "      <th>volume</th>\n",
       "    </tr>\n",
       "    <tr>\n",
       "      <th>time</th>\n",
       "      <th></th>\n",
       "      <th></th>\n",
       "      <th></th>\n",
       "      <th></th>\n",
       "      <th></th>\n",
       "      <th></th>\n",
       "      <th></th>\n",
       "      <th></th>\n",
       "      <th></th>\n",
       "      <th></th>\n",
       "    </tr>\n",
       "  </thead>\n",
       "  <tbody>\n",
       "    <tr>\n",
       "      <th>2018-10-29 00:00:00-04:00</th>\n",
       "      <td>104.86</td>\n",
       "      <td>104.89</td>\n",
       "      <td>104.72</td>\n",
       "      <td>104.79</td>\n",
       "      <td>3599179.0</td>\n",
       "      <td>268.78</td>\n",
       "      <td>270.25</td>\n",
       "      <td>259.85</td>\n",
       "      <td>263.80</td>\n",
       "      <td>120705901</td>\n",
       "    </tr>\n",
       "    <tr>\n",
       "      <th>2018-10-30 00:00:00-04:00</th>\n",
       "      <td>104.68</td>\n",
       "      <td>104.78</td>\n",
       "      <td>104.64</td>\n",
       "      <td>104.65</td>\n",
       "      <td>2246561.0</td>\n",
       "      <td>263.67</td>\n",
       "      <td>268.12</td>\n",
       "      <td>263.12</td>\n",
       "      <td>267.81</td>\n",
       "      <td>122643325</td>\n",
       "    </tr>\n",
       "    <tr>\n",
       "      <th>2018-10-31 00:00:00-04:00</th>\n",
       "      <td>104.50</td>\n",
       "      <td>104.70</td>\n",
       "      <td>104.50</td>\n",
       "      <td>104.58</td>\n",
       "      <td>11670445.0</td>\n",
       "      <td>270.65</td>\n",
       "      <td>273.23</td>\n",
       "      <td>270.12</td>\n",
       "      <td>270.69</td>\n",
       "      <td>97427146</td>\n",
       "    </tr>\n",
       "    <tr>\n",
       "      <th>2018-11-01 00:00:00-04:00</th>\n",
       "      <td>104.22</td>\n",
       "      <td>104.41</td>\n",
       "      <td>104.21</td>\n",
       "      <td>104.35</td>\n",
       "      <td>6974347.0</td>\n",
       "      <td>271.62</td>\n",
       "      <td>273.73</td>\n",
       "      <td>270.38</td>\n",
       "      <td>273.51</td>\n",
       "      <td>72100016</td>\n",
       "    </tr>\n",
       "    <tr>\n",
       "      <th>2018-11-02 00:00:00-04:00</th>\n",
       "      <td>104.25</td>\n",
       "      <td>104.29</td>\n",
       "      <td>103.94</td>\n",
       "      <td>104.01</td>\n",
       "      <td>4207916.0</td>\n",
       "      <td>274.74</td>\n",
       "      <td>275.23</td>\n",
       "      <td>269.59</td>\n",
       "      <td>271.80</td>\n",
       "      <td>93545041</td>\n",
       "    </tr>\n",
       "  </tbody>\n",
       "</table>\n",
       "</div>"
      ],
      "text/plain": [
       "                              AGG                                         SPY  \\\n",
       "                             open    high     low   close      volume    open   \n",
       "time                                                                            \n",
       "2018-10-29 00:00:00-04:00  104.86  104.89  104.72  104.79   3599179.0  268.78   \n",
       "2018-10-30 00:00:00-04:00  104.68  104.78  104.64  104.65   2246561.0  263.67   \n",
       "2018-10-31 00:00:00-04:00  104.50  104.70  104.50  104.58  11670445.0  270.65   \n",
       "2018-11-01 00:00:00-04:00  104.22  104.41  104.21  104.35   6974347.0  271.62   \n",
       "2018-11-02 00:00:00-04:00  104.25  104.29  103.94  104.01   4207916.0  274.74   \n",
       "\n",
       "                                                              \n",
       "                             high     low   close     volume  \n",
       "time                                                          \n",
       "2018-10-29 00:00:00-04:00  270.25  259.85  263.80  120705901  \n",
       "2018-10-30 00:00:00-04:00  268.12  263.12  267.81  122643325  \n",
       "2018-10-31 00:00:00-04:00  273.23  270.12  270.69   97427146  \n",
       "2018-11-01 00:00:00-04:00  273.73  270.38  273.51   72100016  \n",
       "2018-11-02 00:00:00-04:00  275.23  269.59  271.80   93545041  "
      ]
     },
     "metadata": {},
     "output_type": "display_data"
    },
    {
     "data": {
      "text/html": [
       "<div>\n",
       "<style scoped>\n",
       "    .dataframe tbody tr th:only-of-type {\n",
       "        vertical-align: middle;\n",
       "    }\n",
       "\n",
       "    .dataframe tbody tr th {\n",
       "        vertical-align: top;\n",
       "    }\n",
       "\n",
       "    .dataframe thead tr th {\n",
       "        text-align: left;\n",
       "    }\n",
       "\n",
       "    .dataframe thead tr:last-of-type th {\n",
       "        text-align: right;\n",
       "    }\n",
       "</style>\n",
       "<table border=\"1\" class=\"dataframe\">\n",
       "  <thead>\n",
       "    <tr>\n",
       "      <th></th>\n",
       "      <th colspan=\"5\" halign=\"left\">AGG</th>\n",
       "      <th colspan=\"5\" halign=\"left\">SPY</th>\n",
       "    </tr>\n",
       "    <tr>\n",
       "      <th></th>\n",
       "      <th>open</th>\n",
       "      <th>high</th>\n",
       "      <th>low</th>\n",
       "      <th>close</th>\n",
       "      <th>volume</th>\n",
       "      <th>open</th>\n",
       "      <th>high</th>\n",
       "      <th>low</th>\n",
       "      <th>close</th>\n",
       "      <th>volume</th>\n",
       "    </tr>\n",
       "    <tr>\n",
       "      <th>time</th>\n",
       "      <th></th>\n",
       "      <th></th>\n",
       "      <th></th>\n",
       "      <th></th>\n",
       "      <th></th>\n",
       "      <th></th>\n",
       "      <th></th>\n",
       "      <th></th>\n",
       "      <th></th>\n",
       "      <th></th>\n",
       "    </tr>\n",
       "  </thead>\n",
       "  <tbody>\n",
       "    <tr>\n",
       "      <th>2021-10-25 00:00:00-04:00</th>\n",
       "      <td>114.06</td>\n",
       "      <td>114.270</td>\n",
       "      <td>114.060</td>\n",
       "      <td>114.17</td>\n",
       "      <td>7088133.0</td>\n",
       "      <td>454.28</td>\n",
       "      <td>455.90</td>\n",
       "      <td>452.39</td>\n",
       "      <td>455.48</td>\n",
       "      <td>37918548</td>\n",
       "    </tr>\n",
       "    <tr>\n",
       "      <th>2021-10-26 00:00:00-04:00</th>\n",
       "      <td>114.25</td>\n",
       "      <td>114.380</td>\n",
       "      <td>114.110</td>\n",
       "      <td>114.37</td>\n",
       "      <td>5284755.0</td>\n",
       "      <td>457.20</td>\n",
       "      <td>458.49</td>\n",
       "      <td>455.56</td>\n",
       "      <td>455.97</td>\n",
       "      <td>49865704</td>\n",
       "    </tr>\n",
       "    <tr>\n",
       "      <th>2021-10-27 00:00:00-04:00</th>\n",
       "      <td>114.66</td>\n",
       "      <td>114.915</td>\n",
       "      <td>114.425</td>\n",
       "      <td>114.77</td>\n",
       "      <td>6754544.0</td>\n",
       "      <td>456.45</td>\n",
       "      <td>457.16</td>\n",
       "      <td>453.86</td>\n",
       "      <td>453.92</td>\n",
       "      <td>48105590</td>\n",
       "    </tr>\n",
       "    <tr>\n",
       "      <th>2021-10-28 00:00:00-04:00</th>\n",
       "      <td>114.71</td>\n",
       "      <td>114.825</td>\n",
       "      <td>114.570</td>\n",
       "      <td>114.65</td>\n",
       "      <td>4971007.0</td>\n",
       "      <td>455.46</td>\n",
       "      <td>458.40</td>\n",
       "      <td>455.45</td>\n",
       "      <td>458.27</td>\n",
       "      <td>43081788</td>\n",
       "    </tr>\n",
       "    <tr>\n",
       "      <th>2021-10-29 00:00:00-04:00</th>\n",
       "      <td>114.35</td>\n",
       "      <td>114.780</td>\n",
       "      <td>114.350</td>\n",
       "      <td>114.62</td>\n",
       "      <td>7051614.0</td>\n",
       "      <td>455.87</td>\n",
       "      <td>459.56</td>\n",
       "      <td>455.56</td>\n",
       "      <td>459.22</td>\n",
       "      <td>58813207</td>\n",
       "    </tr>\n",
       "  </tbody>\n",
       "</table>\n",
       "</div>"
      ],
      "text/plain": [
       "                              AGG                                       \\\n",
       "                             open     high      low   close     volume   \n",
       "time                                                                     \n",
       "2021-10-25 00:00:00-04:00  114.06  114.270  114.060  114.17  7088133.0   \n",
       "2021-10-26 00:00:00-04:00  114.25  114.380  114.110  114.37  5284755.0   \n",
       "2021-10-27 00:00:00-04:00  114.66  114.915  114.425  114.77  6754544.0   \n",
       "2021-10-28 00:00:00-04:00  114.71  114.825  114.570  114.65  4971007.0   \n",
       "2021-10-29 00:00:00-04:00  114.35  114.780  114.350  114.62  7051614.0   \n",
       "\n",
       "                              SPY                                    \n",
       "                             open    high     low   close    volume  \n",
       "time                                                                 \n",
       "2021-10-25 00:00:00-04:00  454.28  455.90  452.39  455.48  37918548  \n",
       "2021-10-26 00:00:00-04:00  457.20  458.49  455.56  455.97  49865704  \n",
       "2021-10-27 00:00:00-04:00  456.45  457.16  453.86  453.92  48105590  \n",
       "2021-10-28 00:00:00-04:00  455.46  458.40  455.45  458.27  43081788  \n",
       "2021-10-29 00:00:00-04:00  455.87  459.56  455.56  459.22  58813207  "
      ]
     },
     "metadata": {},
     "output_type": "display_data"
    }
   ],
   "source": [
    "# Use the Alpaca get_barset function to make the API call to get the 3 years worth of pricing data\n",
    "# The tickers and timeframe parameters should have been set in Part 1 of this activity \n",
    "# The start and end dates should be updated with the information set above\n",
    "# Remember to add the df property to the end of the call so the response is returned as a DataFrame\n",
    "pricing_df=alpaca.get_barset(tickers,timeframe,limit=limit_rows,start=start_date,end=end_date).df\n",
    "\n",
    "\n",
    "# Display both the first and last five rows of the DataFrame\n",
    "display(pricing_df.head())\n",
    "display(pricing_df.tail())"
   ]
  },
  {
   "cell_type": "markdown",
   "metadata": {},
   "source": [
    "#### Step 2: Run a Monte Carlo simulation of 500 samples and 30 years for the 60/40 portfolio, and then plot the results."
   ]
  },
  {
   "cell_type": "code",
   "execution_count": 108,
   "metadata": {},
   "outputs": [],
   "source": [
    "# Configure the Monte Carlo simulation to forecast 30 years cumulative returns\n",
    "# The weights should be split 40% to AGG and 60% to SPY.\n",
    "# Run 500 samples.\n",
    "num_simulations=500\n",
    "\n",
    "# Review the simulation input data\n",
    "MC_sim=MCSimulation(\n",
    "    portfolio_data=pricing_df,\n",
    "    weights=[0.40,0.60],\n",
    "    num_simulation=num_simulations,\n",
    "    num_trading_days=252*30\n",
    ")\n",
    "\n"
   ]
  },
  {
   "cell_type": "code",
   "execution_count": 109,
   "metadata": {},
   "outputs": [
    {
     "name": "stdout",
     "output_type": "stream",
     "text": [
      "Running Monte Carlo simulation number 0.\n",
      "Running Monte Carlo simulation number 10.\n",
      "Running Monte Carlo simulation number 20.\n",
      "Running Monte Carlo simulation number 30.\n",
      "Running Monte Carlo simulation number 40.\n",
      "Running Monte Carlo simulation number 50.\n",
      "Running Monte Carlo simulation number 60.\n",
      "Running Monte Carlo simulation number 70.\n",
      "Running Monte Carlo simulation number 80.\n",
      "Running Monte Carlo simulation number 90.\n",
      "Running Monte Carlo simulation number 100.\n",
      "Running Monte Carlo simulation number 110.\n",
      "Running Monte Carlo simulation number 120.\n",
      "Running Monte Carlo simulation number 130.\n",
      "Running Monte Carlo simulation number 140.\n",
      "Running Monte Carlo simulation number 150.\n",
      "Running Monte Carlo simulation number 160.\n",
      "Running Monte Carlo simulation number 170.\n",
      "Running Monte Carlo simulation number 180.\n",
      "Running Monte Carlo simulation number 190.\n",
      "Running Monte Carlo simulation number 200.\n",
      "Running Monte Carlo simulation number 210.\n",
      "Running Monte Carlo simulation number 220.\n",
      "Running Monte Carlo simulation number 230.\n",
      "Running Monte Carlo simulation number 240.\n",
      "Running Monte Carlo simulation number 250.\n",
      "Running Monte Carlo simulation number 260.\n",
      "Running Monte Carlo simulation number 270.\n",
      "Running Monte Carlo simulation number 280.\n",
      "Running Monte Carlo simulation number 290.\n",
      "Running Monte Carlo simulation number 300.\n",
      "Running Monte Carlo simulation number 310.\n",
      "Running Monte Carlo simulation number 320.\n",
      "Running Monte Carlo simulation number 330.\n",
      "Running Monte Carlo simulation number 340.\n",
      "Running Monte Carlo simulation number 350.\n",
      "Running Monte Carlo simulation number 360.\n",
      "Running Monte Carlo simulation number 370.\n",
      "Running Monte Carlo simulation number 380.\n",
      "Running Monte Carlo simulation number 390.\n",
      "Running Monte Carlo simulation number 400.\n",
      "Running Monte Carlo simulation number 410.\n",
      "Running Monte Carlo simulation number 420.\n",
      "Running Monte Carlo simulation number 430.\n",
      "Running Monte Carlo simulation number 440.\n",
      "Running Monte Carlo simulation number 450.\n",
      "Running Monte Carlo simulation number 460.\n",
      "Running Monte Carlo simulation number 470.\n",
      "Running Monte Carlo simulation number 480.\n",
      "Running Monte Carlo simulation number 490.\n"
     ]
    },
    {
     "data": {
      "text/html": [
       "<div>\n",
       "<style scoped>\n",
       "    .dataframe tbody tr th:only-of-type {\n",
       "        vertical-align: middle;\n",
       "    }\n",
       "\n",
       "    .dataframe tbody tr th {\n",
       "        vertical-align: top;\n",
       "    }\n",
       "\n",
       "    .dataframe thead th {\n",
       "        text-align: right;\n",
       "    }\n",
       "</style>\n",
       "<table border=\"1\" class=\"dataframe\">\n",
       "  <thead>\n",
       "    <tr style=\"text-align: right;\">\n",
       "      <th></th>\n",
       "      <th>0</th>\n",
       "      <th>1</th>\n",
       "      <th>2</th>\n",
       "      <th>3</th>\n",
       "      <th>4</th>\n",
       "      <th>5</th>\n",
       "      <th>6</th>\n",
       "      <th>7</th>\n",
       "      <th>8</th>\n",
       "      <th>9</th>\n",
       "      <th>...</th>\n",
       "      <th>490</th>\n",
       "      <th>491</th>\n",
       "      <th>492</th>\n",
       "      <th>493</th>\n",
       "      <th>494</th>\n",
       "      <th>495</th>\n",
       "      <th>496</th>\n",
       "      <th>497</th>\n",
       "      <th>498</th>\n",
       "      <th>499</th>\n",
       "    </tr>\n",
       "  </thead>\n",
       "  <tbody>\n",
       "    <tr>\n",
       "      <th>0</th>\n",
       "      <td>1.000000</td>\n",
       "      <td>1.000000</td>\n",
       "      <td>1.000000</td>\n",
       "      <td>1.000000</td>\n",
       "      <td>1.000000</td>\n",
       "      <td>1.000000</td>\n",
       "      <td>1.000000</td>\n",
       "      <td>1.000000</td>\n",
       "      <td>1.000000</td>\n",
       "      <td>1.000000</td>\n",
       "      <td>...</td>\n",
       "      <td>1.000000</td>\n",
       "      <td>1.000000</td>\n",
       "      <td>1.000000</td>\n",
       "      <td>1.000000</td>\n",
       "      <td>1.000000</td>\n",
       "      <td>1.000000</td>\n",
       "      <td>1.000000</td>\n",
       "      <td>1.000000</td>\n",
       "      <td>1.000000</td>\n",
       "      <td>1.000000</td>\n",
       "    </tr>\n",
       "    <tr>\n",
       "      <th>1</th>\n",
       "      <td>0.992139</td>\n",
       "      <td>1.002501</td>\n",
       "      <td>1.016250</td>\n",
       "      <td>1.000614</td>\n",
       "      <td>1.005102</td>\n",
       "      <td>0.999035</td>\n",
       "      <td>1.007585</td>\n",
       "      <td>0.983898</td>\n",
       "      <td>1.019865</td>\n",
       "      <td>0.987864</td>\n",
       "      <td>...</td>\n",
       "      <td>1.005500</td>\n",
       "      <td>1.004345</td>\n",
       "      <td>1.012365</td>\n",
       "      <td>0.982375</td>\n",
       "      <td>1.006383</td>\n",
       "      <td>1.005451</td>\n",
       "      <td>0.996973</td>\n",
       "      <td>1.006761</td>\n",
       "      <td>1.007929</td>\n",
       "      <td>1.011993</td>\n",
       "    </tr>\n",
       "    <tr>\n",
       "      <th>2</th>\n",
       "      <td>0.987645</td>\n",
       "      <td>1.014746</td>\n",
       "      <td>1.016848</td>\n",
       "      <td>0.999455</td>\n",
       "      <td>0.997834</td>\n",
       "      <td>0.992769</td>\n",
       "      <td>1.014416</td>\n",
       "      <td>0.993942</td>\n",
       "      <td>1.019968</td>\n",
       "      <td>0.975572</td>\n",
       "      <td>...</td>\n",
       "      <td>0.999229</td>\n",
       "      <td>1.006126</td>\n",
       "      <td>1.008267</td>\n",
       "      <td>0.977579</td>\n",
       "      <td>1.016296</td>\n",
       "      <td>1.010999</td>\n",
       "      <td>0.979669</td>\n",
       "      <td>1.010733</td>\n",
       "      <td>1.026643</td>\n",
       "      <td>1.011346</td>\n",
       "    </tr>\n",
       "    <tr>\n",
       "      <th>3</th>\n",
       "      <td>1.008337</td>\n",
       "      <td>1.020452</td>\n",
       "      <td>1.009261</td>\n",
       "      <td>0.996530</td>\n",
       "      <td>0.989727</td>\n",
       "      <td>0.980039</td>\n",
       "      <td>1.014447</td>\n",
       "      <td>1.001576</td>\n",
       "      <td>1.033786</td>\n",
       "      <td>0.972887</td>\n",
       "      <td>...</td>\n",
       "      <td>0.986897</td>\n",
       "      <td>0.998122</td>\n",
       "      <td>1.026976</td>\n",
       "      <td>0.991359</td>\n",
       "      <td>1.040238</td>\n",
       "      <td>1.010282</td>\n",
       "      <td>0.973734</td>\n",
       "      <td>1.006121</td>\n",
       "      <td>1.018719</td>\n",
       "      <td>0.997713</td>\n",
       "    </tr>\n",
       "    <tr>\n",
       "      <th>4</th>\n",
       "      <td>0.994836</td>\n",
       "      <td>1.026639</td>\n",
       "      <td>0.997049</td>\n",
       "      <td>0.993814</td>\n",
       "      <td>0.976952</td>\n",
       "      <td>0.981473</td>\n",
       "      <td>1.023925</td>\n",
       "      <td>0.999940</td>\n",
       "      <td>1.032860</td>\n",
       "      <td>0.954499</td>\n",
       "      <td>...</td>\n",
       "      <td>0.987700</td>\n",
       "      <td>1.015773</td>\n",
       "      <td>1.014060</td>\n",
       "      <td>0.991743</td>\n",
       "      <td>1.041584</td>\n",
       "      <td>1.012980</td>\n",
       "      <td>0.978305</td>\n",
       "      <td>1.008758</td>\n",
       "      <td>1.021822</td>\n",
       "      <td>1.002884</td>\n",
       "    </tr>\n",
       "    <tr>\n",
       "      <th>...</th>\n",
       "      <td>...</td>\n",
       "      <td>...</td>\n",
       "      <td>...</td>\n",
       "      <td>...</td>\n",
       "      <td>...</td>\n",
       "      <td>...</td>\n",
       "      <td>...</td>\n",
       "      <td>...</td>\n",
       "      <td>...</td>\n",
       "      <td>...</td>\n",
       "      <td>...</td>\n",
       "      <td>...</td>\n",
       "      <td>...</td>\n",
       "      <td>...</td>\n",
       "      <td>...</td>\n",
       "      <td>...</td>\n",
       "      <td>...</td>\n",
       "      <td>...</td>\n",
       "      <td>...</td>\n",
       "      <td>...</td>\n",
       "      <td>...</td>\n",
       "    </tr>\n",
       "    <tr>\n",
       "      <th>7556</th>\n",
       "      <td>81.596499</td>\n",
       "      <td>21.560736</td>\n",
       "      <td>22.468689</td>\n",
       "      <td>46.667280</td>\n",
       "      <td>70.529405</td>\n",
       "      <td>87.092042</td>\n",
       "      <td>89.536077</td>\n",
       "      <td>9.274945</td>\n",
       "      <td>61.196991</td>\n",
       "      <td>36.077775</td>\n",
       "      <td>...</td>\n",
       "      <td>27.088605</td>\n",
       "      <td>11.885810</td>\n",
       "      <td>81.537812</td>\n",
       "      <td>205.013984</td>\n",
       "      <td>144.719769</td>\n",
       "      <td>127.717327</td>\n",
       "      <td>18.092799</td>\n",
       "      <td>38.393689</td>\n",
       "      <td>26.345289</td>\n",
       "      <td>69.883143</td>\n",
       "    </tr>\n",
       "    <tr>\n",
       "      <th>7557</th>\n",
       "      <td>81.206036</td>\n",
       "      <td>21.560053</td>\n",
       "      <td>22.361374</td>\n",
       "      <td>46.557279</td>\n",
       "      <td>69.365785</td>\n",
       "      <td>87.650240</td>\n",
       "      <td>90.452308</td>\n",
       "      <td>9.245285</td>\n",
       "      <td>61.004515</td>\n",
       "      <td>36.089238</td>\n",
       "      <td>...</td>\n",
       "      <td>26.998752</td>\n",
       "      <td>11.981288</td>\n",
       "      <td>81.908422</td>\n",
       "      <td>201.851203</td>\n",
       "      <td>146.321997</td>\n",
       "      <td>127.586751</td>\n",
       "      <td>17.865131</td>\n",
       "      <td>38.121194</td>\n",
       "      <td>26.173878</td>\n",
       "      <td>69.116868</td>\n",
       "    </tr>\n",
       "    <tr>\n",
       "      <th>7558</th>\n",
       "      <td>81.408435</td>\n",
       "      <td>21.439150</td>\n",
       "      <td>22.245107</td>\n",
       "      <td>46.109764</td>\n",
       "      <td>69.737122</td>\n",
       "      <td>88.406976</td>\n",
       "      <td>88.731578</td>\n",
       "      <td>9.203193</td>\n",
       "      <td>59.702706</td>\n",
       "      <td>36.359652</td>\n",
       "      <td>...</td>\n",
       "      <td>27.164473</td>\n",
       "      <td>11.942487</td>\n",
       "      <td>82.682040</td>\n",
       "      <td>200.695791</td>\n",
       "      <td>147.096108</td>\n",
       "      <td>126.438332</td>\n",
       "      <td>17.845092</td>\n",
       "      <td>38.531654</td>\n",
       "      <td>26.411208</td>\n",
       "      <td>70.360731</td>\n",
       "    </tr>\n",
       "    <tr>\n",
       "      <th>7559</th>\n",
       "      <td>80.833381</td>\n",
       "      <td>21.675055</td>\n",
       "      <td>22.303654</td>\n",
       "      <td>46.254434</td>\n",
       "      <td>69.741690</td>\n",
       "      <td>88.920907</td>\n",
       "      <td>89.752168</td>\n",
       "      <td>9.018347</td>\n",
       "      <td>60.025884</td>\n",
       "      <td>36.814078</td>\n",
       "      <td>...</td>\n",
       "      <td>26.959423</td>\n",
       "      <td>11.871460</td>\n",
       "      <td>83.665037</td>\n",
       "      <td>199.054469</td>\n",
       "      <td>147.262286</td>\n",
       "      <td>127.927382</td>\n",
       "      <td>18.022423</td>\n",
       "      <td>39.296730</td>\n",
       "      <td>26.412501</td>\n",
       "      <td>70.693736</td>\n",
       "    </tr>\n",
       "    <tr>\n",
       "      <th>7560</th>\n",
       "      <td>80.331970</td>\n",
       "      <td>21.702251</td>\n",
       "      <td>22.652732</td>\n",
       "      <td>46.460274</td>\n",
       "      <td>70.439523</td>\n",
       "      <td>88.646100</td>\n",
       "      <td>88.822841</td>\n",
       "      <td>9.061324</td>\n",
       "      <td>61.063620</td>\n",
       "      <td>37.425775</td>\n",
       "      <td>...</td>\n",
       "      <td>26.881954</td>\n",
       "      <td>11.998920</td>\n",
       "      <td>84.104654</td>\n",
       "      <td>199.363812</td>\n",
       "      <td>148.665704</td>\n",
       "      <td>127.885609</td>\n",
       "      <td>17.981523</td>\n",
       "      <td>39.342963</td>\n",
       "      <td>26.133850</td>\n",
       "      <td>70.722693</td>\n",
       "    </tr>\n",
       "  </tbody>\n",
       "</table>\n",
       "<p>7561 rows × 500 columns</p>\n",
       "</div>"
      ],
      "text/plain": [
       "            0          1          2          3          4          5    \\\n",
       "0      1.000000   1.000000   1.000000   1.000000   1.000000   1.000000   \n",
       "1      0.992139   1.002501   1.016250   1.000614   1.005102   0.999035   \n",
       "2      0.987645   1.014746   1.016848   0.999455   0.997834   0.992769   \n",
       "3      1.008337   1.020452   1.009261   0.996530   0.989727   0.980039   \n",
       "4      0.994836   1.026639   0.997049   0.993814   0.976952   0.981473   \n",
       "...         ...        ...        ...        ...        ...        ...   \n",
       "7556  81.596499  21.560736  22.468689  46.667280  70.529405  87.092042   \n",
       "7557  81.206036  21.560053  22.361374  46.557279  69.365785  87.650240   \n",
       "7558  81.408435  21.439150  22.245107  46.109764  69.737122  88.406976   \n",
       "7559  80.833381  21.675055  22.303654  46.254434  69.741690  88.920907   \n",
       "7560  80.331970  21.702251  22.652732  46.460274  70.439523  88.646100   \n",
       "\n",
       "            6         7          8          9    ...        490        491  \\\n",
       "0      1.000000  1.000000   1.000000   1.000000  ...   1.000000   1.000000   \n",
       "1      1.007585  0.983898   1.019865   0.987864  ...   1.005500   1.004345   \n",
       "2      1.014416  0.993942   1.019968   0.975572  ...   0.999229   1.006126   \n",
       "3      1.014447  1.001576   1.033786   0.972887  ...   0.986897   0.998122   \n",
       "4      1.023925  0.999940   1.032860   0.954499  ...   0.987700   1.015773   \n",
       "...         ...       ...        ...        ...  ...        ...        ...   \n",
       "7556  89.536077  9.274945  61.196991  36.077775  ...  27.088605  11.885810   \n",
       "7557  90.452308  9.245285  61.004515  36.089238  ...  26.998752  11.981288   \n",
       "7558  88.731578  9.203193  59.702706  36.359652  ...  27.164473  11.942487   \n",
       "7559  89.752168  9.018347  60.025884  36.814078  ...  26.959423  11.871460   \n",
       "7560  88.822841  9.061324  61.063620  37.425775  ...  26.881954  11.998920   \n",
       "\n",
       "            492         493         494         495        496        497  \\\n",
       "0      1.000000    1.000000    1.000000    1.000000   1.000000   1.000000   \n",
       "1      1.012365    0.982375    1.006383    1.005451   0.996973   1.006761   \n",
       "2      1.008267    0.977579    1.016296    1.010999   0.979669   1.010733   \n",
       "3      1.026976    0.991359    1.040238    1.010282   0.973734   1.006121   \n",
       "4      1.014060    0.991743    1.041584    1.012980   0.978305   1.008758   \n",
       "...         ...         ...         ...         ...        ...        ...   \n",
       "7556  81.537812  205.013984  144.719769  127.717327  18.092799  38.393689   \n",
       "7557  81.908422  201.851203  146.321997  127.586751  17.865131  38.121194   \n",
       "7558  82.682040  200.695791  147.096108  126.438332  17.845092  38.531654   \n",
       "7559  83.665037  199.054469  147.262286  127.927382  18.022423  39.296730   \n",
       "7560  84.104654  199.363812  148.665704  127.885609  17.981523  39.342963   \n",
       "\n",
       "            498        499  \n",
       "0      1.000000   1.000000  \n",
       "1      1.007929   1.011993  \n",
       "2      1.026643   1.011346  \n",
       "3      1.018719   0.997713  \n",
       "4      1.021822   1.002884  \n",
       "...         ...        ...  \n",
       "7556  26.345289  69.883143  \n",
       "7557  26.173878  69.116868  \n",
       "7558  26.411208  70.360731  \n",
       "7559  26.412501  70.693736  \n",
       "7560  26.133850  70.722693  \n",
       "\n",
       "[7561 rows x 500 columns]"
      ]
     },
     "execution_count": 109,
     "metadata": {},
     "output_type": "execute_result"
    }
   ],
   "source": [
    "# Run the Monte Carlo simulation to forecast 30 years cumulative returns\n",
    "MC_sim.calc_cumulative_return()"
   ]
  },
  {
   "cell_type": "code",
   "execution_count": 110,
   "metadata": {},
   "outputs": [
    {
     "data": {
      "image/png": "[encoded data removed]",
      "text/plain": [
       "<Figure size 432x288 with 1 Axes>"
      ]
     },
     "metadata": {
      "needs_background": "light"
     },
     "output_type": "display_data"
    }
   ],
   "source": [
    "# Visualize the 30-year Monte Carlo simulation by creating an\n",
    "# overlay line plot\n",
    "mc_line_plot=MC_sim.plot_simulation()\n",
    "\n"
   ]
  },
  {
   "cell_type": "markdown",
   "metadata": {},
   "source": [
    "#### Step 3: Plot the probability distribution of the Monte Carlo simulation."
   ]
  },
  {
   "cell_type": "code",
   "execution_count": 111,
   "metadata": {},
   "outputs": [
    {
     "data": {
      "image/png": "[encoded data removed]",
      "text/plain": [
       "<Figure size 432x288 with 1 Axes>"
      ]
     },
     "metadata": {
      "needs_background": "light"
     },
     "output_type": "display_data"
    }
   ],
   "source": [
    "# Visualize the probability distribution of the 30-year Monte Carlo simulation \n",
    "# by plotting a histogram\n",
    "mc_prob_dist=MC_sim.plot_distribution()\n"
   ]
  },
  {
   "cell_type": "markdown",
   "metadata": {},
   "source": [
    "#### Step 4: Generate the summary statistics for the Monte Carlo simulation."
   ]
  },
  {
   "cell_type": "code",
   "execution_count": 112,
   "metadata": {},
   "outputs": [
    {
     "name": "stdout",
     "output_type": "stream",
     "text": [
      "count           500.000000\n",
      "mean             64.297395\n",
      "std              52.217455\n",
      "min               3.893888\n",
      "25%              29.505402\n",
      "50%              50.561422\n",
      "75%              79.915306\n",
      "max             350.367335\n",
      "95% CI Lower      9.202338\n",
      "95% CI Upper    198.374376\n",
      "Name: 7560, dtype: float64\n"
     ]
    }
   ],
   "source": [
    "# Generate summary statistics from the 30-year Monte Carlo simulation results\n",
    "summary_stats=MC_sim.summarize_cumulative_return()\n",
    "\n",
    "\n",
    "\n",
    "# Review the 30-year Monte Carlo summary statistics\n",
    "print(summary_stats)"
   ]
  },
  {
   "cell_type": "markdown",
   "metadata": {},
   "source": [
    "### Analyze the Retirement Portfolio Forecasts\n",
    "\n",
    "Using the current value of only the stock and bond portion of the member's portfolio and the summary statistics that you generated from the Monte Carlo simulation, answer the following question in your Jupyter notebook:\n",
    "\n",
    "-  What are the lower and upper bounds for the expected value of the portfolio with a 95% confidence interval?\n"
   ]
  },
  {
   "cell_type": "code",
   "execution_count": 113,
   "metadata": {},
   "outputs": [
    {
     "name": "stdout",
     "output_type": "stream",
     "text": [
      "The current balance of the stock and bond portion of the members portfolio in USD=$73438.200000\n"
     ]
    }
   ],
   "source": [
    "# Print the current balance of the stock and bond portion of the members portfolio\n",
    "print(f\"The current balance of the stock and bond portion of the members portfolio in USD=${total_stocks_bonds:2f}\")\n"
   ]
  },
  {
   "cell_type": "code",
   "execution_count": 115,
   "metadata": {},
   "outputs": [
    {
     "name": "stdout",
     "output_type": "stream",
     "text": [
      " There a possiblity with 95% confidence that the stock and bond portion of the portfolio may endin the lower range of $675803.162564 OR in the higher range of $14568257.127113\n"
     ]
    }
   ],
   "source": [
    "# Use the lower and upper `95%` confidence intervals to calculate the range of the possible outcomes for the current stock/bond portfolio\n",
    "ci_lower_thirty_cumulative_return = summary_stats['95% CI Lower']*total_stocks_bonds\n",
    "ci_upper_thirty_cumulative_return = summary_stats['95% CI Upper']*total_stocks_bonds\n",
    "\n",
    "# Print the result of your calculations\n",
    "print(f\" There a possiblity with 95% confidence that the stock and bond portion of the portfolio may end\"\n",
    "     f\"in the lower range of ${ci_lower_thirty_cumulative_return:2f}\"\n",
    "     f\" OR in the higher range of ${ci_upper_thirty_cumulative_return:2f}\" )\n"
   ]
  },
  {
   "cell_type": "markdown",
   "metadata": {},
   "source": [
    "### Forecast Cumulative Returns in 10 Years\n",
    "\n",
    "The CTO of the credit union is impressed with your work on these planning tools but wonders if 30 years is a long time to wait until retirement. So, your next task is to adjust the retirement portfolio and run a new Monte Carlo simulation to find out if the changes will allow members to retire earlier.\n",
    "\n",
    "For this new Monte Carlo simulation, do the following: \n",
    "\n",
    "- Forecast the cumulative returns for 10 years from now. Because of the shortened investment horizon (30 years to 10 years), the portfolio needs to invest more heavily in the riskier asset&mdash;that is, stock&mdash;to help accumulate wealth for retirement. \n",
    "\n",
    "- Adjust the weights of the retirement portfolio so that the composition for the Monte Carlo simulation consists of 20% bonds and 80% stocks. \n",
    "\n",
    "- Run the simulation over 500 samples, and use the same data that the API call to Alpaca generated.\n",
    "\n",
    "- Based on the new Monte Carlo simulation, answer the following questions in your Jupyter notebook:\n",
    "\n",
    "    - Using the current value of only the stock and bond portion of the member's portfolio and the summary statistics that you generated from the new Monte Carlo simulation, what are the lower and upper bounds for the expected value of the portfolio (with the new weights) with a 95% confidence interval?\n",
    "\n",
    "    - Will weighting the portfolio more heavily toward stocks allow the credit union members to retire after only 10 years?\n"
   ]
  },
  {
   "cell_type": "code",
   "execution_count": 116,
   "metadata": {},
   "outputs": [
    {
     "data": {
      "text/html": [
       "<div>\n",
       "<style scoped>\n",
       "    .dataframe tbody tr th:only-of-type {\n",
       "        vertical-align: middle;\n",
       "    }\n",
       "\n",
       "    .dataframe tbody tr th {\n",
       "        vertical-align: top;\n",
       "    }\n",
       "\n",
       "    .dataframe thead tr th {\n",
       "        text-align: left;\n",
       "    }\n",
       "\n",
       "    .dataframe thead tr:last-of-type th {\n",
       "        text-align: right;\n",
       "    }\n",
       "</style>\n",
       "<table border=\"1\" class=\"dataframe\">\n",
       "  <thead>\n",
       "    <tr>\n",
       "      <th></th>\n",
       "      <th colspan=\"6\" halign=\"left\">AGG</th>\n",
       "      <th colspan=\"6\" halign=\"left\">SPY</th>\n",
       "    </tr>\n",
       "    <tr>\n",
       "      <th></th>\n",
       "      <th>open</th>\n",
       "      <th>high</th>\n",
       "      <th>low</th>\n",
       "      <th>close</th>\n",
       "      <th>volume</th>\n",
       "      <th>daily_return</th>\n",
       "      <th>open</th>\n",
       "      <th>high</th>\n",
       "      <th>low</th>\n",
       "      <th>close</th>\n",
       "      <th>volume</th>\n",
       "      <th>daily_return</th>\n",
       "    </tr>\n",
       "    <tr>\n",
       "      <th>time</th>\n",
       "      <th></th>\n",
       "      <th></th>\n",
       "      <th></th>\n",
       "      <th></th>\n",
       "      <th></th>\n",
       "      <th></th>\n",
       "      <th></th>\n",
       "      <th></th>\n",
       "      <th></th>\n",
       "      <th></th>\n",
       "      <th></th>\n",
       "      <th></th>\n",
       "    </tr>\n",
       "  </thead>\n",
       "  <tbody>\n",
       "    <tr>\n",
       "      <th>2018-10-29 00:00:00-04:00</th>\n",
       "      <td>104.86</td>\n",
       "      <td>104.89</td>\n",
       "      <td>104.72</td>\n",
       "      <td>104.79</td>\n",
       "      <td>3599179.0</td>\n",
       "      <td>NaN</td>\n",
       "      <td>268.78</td>\n",
       "      <td>270.25</td>\n",
       "      <td>259.85</td>\n",
       "      <td>263.80</td>\n",
       "      <td>120705901</td>\n",
       "      <td>NaN</td>\n",
       "    </tr>\n",
       "    <tr>\n",
       "      <th>2018-10-30 00:00:00-04:00</th>\n",
       "      <td>104.68</td>\n",
       "      <td>104.78</td>\n",
       "      <td>104.64</td>\n",
       "      <td>104.65</td>\n",
       "      <td>2246561.0</td>\n",
       "      <td>-0.001336</td>\n",
       "      <td>263.67</td>\n",
       "      <td>268.12</td>\n",
       "      <td>263.12</td>\n",
       "      <td>267.81</td>\n",
       "      <td>122643325</td>\n",
       "      <td>0.015201</td>\n",
       "    </tr>\n",
       "    <tr>\n",
       "      <th>2018-10-31 00:00:00-04:00</th>\n",
       "      <td>104.50</td>\n",
       "      <td>104.70</td>\n",
       "      <td>104.50</td>\n",
       "      <td>104.58</td>\n",
       "      <td>11670445.0</td>\n",
       "      <td>-0.000669</td>\n",
       "      <td>270.65</td>\n",
       "      <td>273.23</td>\n",
       "      <td>270.12</td>\n",
       "      <td>270.69</td>\n",
       "      <td>97427146</td>\n",
       "      <td>0.010754</td>\n",
       "    </tr>\n",
       "    <tr>\n",
       "      <th>2018-11-01 00:00:00-04:00</th>\n",
       "      <td>104.22</td>\n",
       "      <td>104.41</td>\n",
       "      <td>104.21</td>\n",
       "      <td>104.35</td>\n",
       "      <td>6974347.0</td>\n",
       "      <td>-0.002199</td>\n",
       "      <td>271.62</td>\n",
       "      <td>273.73</td>\n",
       "      <td>270.38</td>\n",
       "      <td>273.51</td>\n",
       "      <td>72100016</td>\n",
       "      <td>0.010418</td>\n",
       "    </tr>\n",
       "    <tr>\n",
       "      <th>2018-11-02 00:00:00-04:00</th>\n",
       "      <td>104.25</td>\n",
       "      <td>104.29</td>\n",
       "      <td>103.94</td>\n",
       "      <td>104.01</td>\n",
       "      <td>4207916.0</td>\n",
       "      <td>-0.003258</td>\n",
       "      <td>274.74</td>\n",
       "      <td>275.23</td>\n",
       "      <td>269.59</td>\n",
       "      <td>271.80</td>\n",
       "      <td>93545041</td>\n",
       "      <td>-0.006252</td>\n",
       "    </tr>\n",
       "  </tbody>\n",
       "</table>\n",
       "</div>"
      ],
      "text/plain": [
       "                              AGG                                      \\\n",
       "                             open    high     low   close      volume   \n",
       "time                                                                    \n",
       "2018-10-29 00:00:00-04:00  104.86  104.89  104.72  104.79   3599179.0   \n",
       "2018-10-30 00:00:00-04:00  104.68  104.78  104.64  104.65   2246561.0   \n",
       "2018-10-31 00:00:00-04:00  104.50  104.70  104.50  104.58  11670445.0   \n",
       "2018-11-01 00:00:00-04:00  104.22  104.41  104.21  104.35   6974347.0   \n",
       "2018-11-02 00:00:00-04:00  104.25  104.29  103.94  104.01   4207916.0   \n",
       "\n",
       "                                           SPY                          \\\n",
       "                          daily_return    open    high     low   close   \n",
       "time                                                                     \n",
       "2018-10-29 00:00:00-04:00          NaN  268.78  270.25  259.85  263.80   \n",
       "2018-10-30 00:00:00-04:00    -0.001336  263.67  268.12  263.12  267.81   \n",
       "2018-10-31 00:00:00-04:00    -0.000669  270.65  273.23  270.12  270.69   \n",
       "2018-11-01 00:00:00-04:00    -0.002199  271.62  273.73  270.38  273.51   \n",
       "2018-11-02 00:00:00-04:00    -0.003258  274.74  275.23  269.59  271.80   \n",
       "\n",
       "                                                   \n",
       "                              volume daily_return  \n",
       "time                                               \n",
       "2018-10-29 00:00:00-04:00  120705901          NaN  \n",
       "2018-10-30 00:00:00-04:00  122643325     0.015201  \n",
       "2018-10-31 00:00:00-04:00   97427146     0.010754  \n",
       "2018-11-01 00:00:00-04:00   72100016     0.010418  \n",
       "2018-11-02 00:00:00-04:00   93545041    -0.006252  "
      ]
     },
     "execution_count": 116,
     "metadata": {},
     "output_type": "execute_result"
    }
   ],
   "source": [
    "# Configure a Monte Carlo simulation to forecast 10 years cumulative returns\n",
    "# The weights should be split 20% to AGG and 80% to SPY.\n",
    "# Run 500 samples.\n",
    "MC_sim=MCSimulation(\n",
    "    portfolio_data=pricing_df,\n",
    "    weights=[0.20,0.80],\n",
    "    num_simulation=num_simulations,\n",
    "    num_trading_days=252*10\n",
    ")\n",
    "\n",
    "# Review the simulation input data\n",
    "\n",
    "MC_sim.portfolio_data.head()"
   ]
  },
  {
   "cell_type": "code",
   "execution_count": 117,
   "metadata": {},
   "outputs": [
    {
     "name": "stdout",
     "output_type": "stream",
     "text": [
      "Running Monte Carlo simulation number 0.\n",
      "Running Monte Carlo simulation number 10.\n",
      "Running Monte Carlo simulation number 20.\n",
      "Running Monte Carlo simulation number 30.\n",
      "Running Monte Carlo simulation number 40.\n",
      "Running Monte Carlo simulation number 50.\n",
      "Running Monte Carlo simulation number 60.\n",
      "Running Monte Carlo simulation number 70.\n",
      "Running Monte Carlo simulation number 80.\n",
      "Running Monte Carlo simulation number 90.\n",
      "Running Monte Carlo simulation number 100.\n",
      "Running Monte Carlo simulation number 110.\n",
      "Running Monte Carlo simulation number 120.\n",
      "Running Monte Carlo simulation number 130.\n",
      "Running Monte Carlo simulation number 140.\n",
      "Running Monte Carlo simulation number 150.\n",
      "Running Monte Carlo simulation number 160.\n",
      "Running Monte Carlo simulation number 170.\n",
      "Running Monte Carlo simulation number 180.\n",
      "Running Monte Carlo simulation number 190.\n",
      "Running Monte Carlo simulation number 200.\n",
      "Running Monte Carlo simulation number 210.\n",
      "Running Monte Carlo simulation number 220.\n",
      "Running Monte Carlo simulation number 230.\n",
      "Running Monte Carlo simulation number 240.\n",
      "Running Monte Carlo simulation number 250.\n",
      "Running Monte Carlo simulation number 260.\n",
      "Running Monte Carlo simulation number 270.\n",
      "Running Monte Carlo simulation number 280.\n",
      "Running Monte Carlo simulation number 290.\n",
      "Running Monte Carlo simulation number 300.\n",
      "Running Monte Carlo simulation number 310.\n",
      "Running Monte Carlo simulation number 320.\n",
      "Running Monte Carlo simulation number 330.\n",
      "Running Monte Carlo simulation number 340.\n",
      "Running Monte Carlo simulation number 350.\n",
      "Running Monte Carlo simulation number 360.\n",
      "Running Monte Carlo simulation number 370.\n",
      "Running Monte Carlo simulation number 380.\n",
      "Running Monte Carlo simulation number 390.\n",
      "Running Monte Carlo simulation number 400.\n",
      "Running Monte Carlo simulation number 410.\n",
      "Running Monte Carlo simulation number 420.\n",
      "Running Monte Carlo simulation number 430.\n",
      "Running Monte Carlo simulation number 440.\n",
      "Running Monte Carlo simulation number 450.\n",
      "Running Monte Carlo simulation number 460.\n",
      "Running Monte Carlo simulation number 470.\n",
      "Running Monte Carlo simulation number 480.\n",
      "Running Monte Carlo simulation number 490.\n"
     ]
    },
    {
     "data": {
      "text/html": [
       "<div>\n",
       "<style scoped>\n",
       "    .dataframe tbody tr th:only-of-type {\n",
       "        vertical-align: middle;\n",
       "    }\n",
       "\n",
       "    .dataframe tbody tr th {\n",
       "        vertical-align: top;\n",
       "    }\n",
       "\n",
       "    .dataframe thead th {\n",
       "        text-align: right;\n",
       "    }\n",
       "</style>\n",
       "<table border=\"1\" class=\"dataframe\">\n",
       "  <thead>\n",
       "    <tr style=\"text-align: right;\">\n",
       "      <th></th>\n",
       "      <th>0</th>\n",
       "      <th>1</th>\n",
       "      <th>2</th>\n",
       "      <th>3</th>\n",
       "      <th>4</th>\n",
       "      <th>5</th>\n",
       "      <th>6</th>\n",
       "      <th>7</th>\n",
       "      <th>8</th>\n",
       "      <th>9</th>\n",
       "      <th>...</th>\n",
       "      <th>490</th>\n",
       "      <th>491</th>\n",
       "      <th>492</th>\n",
       "      <th>493</th>\n",
       "      <th>494</th>\n",
       "      <th>495</th>\n",
       "      <th>496</th>\n",
       "      <th>497</th>\n",
       "      <th>498</th>\n",
       "      <th>499</th>\n",
       "    </tr>\n",
       "  </thead>\n",
       "  <tbody>\n",
       "    <tr>\n",
       "      <th>0</th>\n",
       "      <td>1.000000</td>\n",
       "      <td>1.000000</td>\n",
       "      <td>1.000000</td>\n",
       "      <td>1.000000</td>\n",
       "      <td>1.000000</td>\n",
       "      <td>1.000000</td>\n",
       "      <td>1.000000</td>\n",
       "      <td>1.000000</td>\n",
       "      <td>1.000000</td>\n",
       "      <td>1.000000</td>\n",
       "      <td>...</td>\n",
       "      <td>1.000000</td>\n",
       "      <td>1.000000</td>\n",
       "      <td>1.000000</td>\n",
       "      <td>1.000000</td>\n",
       "      <td>1.000000</td>\n",
       "      <td>1.000000</td>\n",
       "      <td>1.000000</td>\n",
       "      <td>1.000000</td>\n",
       "      <td>1.000000</td>\n",
       "      <td>1.000000</td>\n",
       "    </tr>\n",
       "    <tr>\n",
       "      <th>1</th>\n",
       "      <td>1.005822</td>\n",
       "      <td>0.981388</td>\n",
       "      <td>1.014220</td>\n",
       "      <td>1.024608</td>\n",
       "      <td>0.995049</td>\n",
       "      <td>1.023559</td>\n",
       "      <td>1.009500</td>\n",
       "      <td>1.011352</td>\n",
       "      <td>1.018580</td>\n",
       "      <td>1.005496</td>\n",
       "      <td>...</td>\n",
       "      <td>0.990160</td>\n",
       "      <td>1.006869</td>\n",
       "      <td>1.003837</td>\n",
       "      <td>1.004073</td>\n",
       "      <td>1.016864</td>\n",
       "      <td>1.010390</td>\n",
       "      <td>0.989885</td>\n",
       "      <td>0.998750</td>\n",
       "      <td>1.003086</td>\n",
       "      <td>0.995816</td>\n",
       "    </tr>\n",
       "    <tr>\n",
       "      <th>2</th>\n",
       "      <td>1.000394</td>\n",
       "      <td>0.997335</td>\n",
       "      <td>1.016783</td>\n",
       "      <td>1.023816</td>\n",
       "      <td>1.003234</td>\n",
       "      <td>1.028121</td>\n",
       "      <td>1.001011</td>\n",
       "      <td>1.024528</td>\n",
       "      <td>1.000730</td>\n",
       "      <td>1.014862</td>\n",
       "      <td>...</td>\n",
       "      <td>0.975973</td>\n",
       "      <td>0.992872</td>\n",
       "      <td>1.000067</td>\n",
       "      <td>0.992331</td>\n",
       "      <td>1.016588</td>\n",
       "      <td>1.020706</td>\n",
       "      <td>0.991448</td>\n",
       "      <td>1.008949</td>\n",
       "      <td>0.976026</td>\n",
       "      <td>1.001483</td>\n",
       "    </tr>\n",
       "    <tr>\n",
       "      <th>3</th>\n",
       "      <td>1.004328</td>\n",
       "      <td>0.979926</td>\n",
       "      <td>1.012642</td>\n",
       "      <td>1.021631</td>\n",
       "      <td>1.002793</td>\n",
       "      <td>1.009770</td>\n",
       "      <td>0.992114</td>\n",
       "      <td>1.041197</td>\n",
       "      <td>0.987436</td>\n",
       "      <td>1.010726</td>\n",
       "      <td>...</td>\n",
       "      <td>0.999743</td>\n",
       "      <td>0.993616</td>\n",
       "      <td>1.005204</td>\n",
       "      <td>0.984413</td>\n",
       "      <td>1.018556</td>\n",
       "      <td>1.022143</td>\n",
       "      <td>1.010312</td>\n",
       "      <td>1.005318</td>\n",
       "      <td>0.986322</td>\n",
       "      <td>0.990151</td>\n",
       "    </tr>\n",
       "    <tr>\n",
       "      <th>4</th>\n",
       "      <td>1.017115</td>\n",
       "      <td>0.967277</td>\n",
       "      <td>1.016942</td>\n",
       "      <td>1.026909</td>\n",
       "      <td>1.012497</td>\n",
       "      <td>1.011434</td>\n",
       "      <td>0.993873</td>\n",
       "      <td>1.060539</td>\n",
       "      <td>0.997686</td>\n",
       "      <td>1.003715</td>\n",
       "      <td>...</td>\n",
       "      <td>1.010077</td>\n",
       "      <td>0.995535</td>\n",
       "      <td>1.023009</td>\n",
       "      <td>0.993423</td>\n",
       "      <td>1.007581</td>\n",
       "      <td>1.032421</td>\n",
       "      <td>1.008255</td>\n",
       "      <td>1.005003</td>\n",
       "      <td>0.989930</td>\n",
       "      <td>0.987871</td>\n",
       "    </tr>\n",
       "    <tr>\n",
       "      <th>...</th>\n",
       "      <td>...</td>\n",
       "      <td>...</td>\n",
       "      <td>...</td>\n",
       "      <td>...</td>\n",
       "      <td>...</td>\n",
       "      <td>...</td>\n",
       "      <td>...</td>\n",
       "      <td>...</td>\n",
       "      <td>...</td>\n",
       "      <td>...</td>\n",
       "      <td>...</td>\n",
       "      <td>...</td>\n",
       "      <td>...</td>\n",
       "      <td>...</td>\n",
       "      <td>...</td>\n",
       "      <td>...</td>\n",
       "      <td>...</td>\n",
       "      <td>...</td>\n",
       "      <td>...</td>\n",
       "      <td>...</td>\n",
       "      <td>...</td>\n",
       "    </tr>\n",
       "    <tr>\n",
       "      <th>2516</th>\n",
       "      <td>11.352107</td>\n",
       "      <td>4.690464</td>\n",
       "      <td>3.009516</td>\n",
       "      <td>3.815743</td>\n",
       "      <td>9.384326</td>\n",
       "      <td>9.332564</td>\n",
       "      <td>5.555462</td>\n",
       "      <td>6.884869</td>\n",
       "      <td>4.678791</td>\n",
       "      <td>7.013313</td>\n",
       "      <td>...</td>\n",
       "      <td>4.925660</td>\n",
       "      <td>1.350013</td>\n",
       "      <td>4.501073</td>\n",
       "      <td>5.037468</td>\n",
       "      <td>3.716649</td>\n",
       "      <td>4.697361</td>\n",
       "      <td>9.915355</td>\n",
       "      <td>8.331717</td>\n",
       "      <td>2.802581</td>\n",
       "      <td>2.341654</td>\n",
       "    </tr>\n",
       "    <tr>\n",
       "      <th>2517</th>\n",
       "      <td>11.400343</td>\n",
       "      <td>4.773175</td>\n",
       "      <td>3.014679</td>\n",
       "      <td>3.844760</td>\n",
       "      <td>9.456415</td>\n",
       "      <td>9.278631</td>\n",
       "      <td>5.611444</td>\n",
       "      <td>6.891161</td>\n",
       "      <td>4.774910</td>\n",
       "      <td>7.043289</td>\n",
       "      <td>...</td>\n",
       "      <td>4.894844</td>\n",
       "      <td>1.345562</td>\n",
       "      <td>4.484495</td>\n",
       "      <td>5.111564</td>\n",
       "      <td>3.693656</td>\n",
       "      <td>4.728376</td>\n",
       "      <td>9.860814</td>\n",
       "      <td>8.282458</td>\n",
       "      <td>2.814214</td>\n",
       "      <td>2.308190</td>\n",
       "    </tr>\n",
       "    <tr>\n",
       "      <th>2518</th>\n",
       "      <td>11.418665</td>\n",
       "      <td>4.821032</td>\n",
       "      <td>3.068188</td>\n",
       "      <td>3.819301</td>\n",
       "      <td>9.673239</td>\n",
       "      <td>9.301947</td>\n",
       "      <td>5.659929</td>\n",
       "      <td>6.879332</td>\n",
       "      <td>4.746294</td>\n",
       "      <td>6.949219</td>\n",
       "      <td>...</td>\n",
       "      <td>4.855008</td>\n",
       "      <td>1.353094</td>\n",
       "      <td>4.549383</td>\n",
       "      <td>5.106318</td>\n",
       "      <td>3.671803</td>\n",
       "      <td>4.775977</td>\n",
       "      <td>9.906370</td>\n",
       "      <td>8.125956</td>\n",
       "      <td>2.821968</td>\n",
       "      <td>2.317031</td>\n",
       "    </tr>\n",
       "    <tr>\n",
       "      <th>2519</th>\n",
       "      <td>11.277458</td>\n",
       "      <td>4.903917</td>\n",
       "      <td>3.114986</td>\n",
       "      <td>3.871868</td>\n",
       "      <td>9.746470</td>\n",
       "      <td>9.386773</td>\n",
       "      <td>5.663361</td>\n",
       "      <td>7.031112</td>\n",
       "      <td>4.770541</td>\n",
       "      <td>6.908416</td>\n",
       "      <td>...</td>\n",
       "      <td>4.842035</td>\n",
       "      <td>1.325143</td>\n",
       "      <td>4.555606</td>\n",
       "      <td>5.063912</td>\n",
       "      <td>3.670842</td>\n",
       "      <td>4.733103</td>\n",
       "      <td>9.994581</td>\n",
       "      <td>8.133936</td>\n",
       "      <td>2.776908</td>\n",
       "      <td>2.356452</td>\n",
       "    </tr>\n",
       "    <tr>\n",
       "      <th>2520</th>\n",
       "      <td>11.263715</td>\n",
       "      <td>4.895162</td>\n",
       "      <td>3.025863</td>\n",
       "      <td>3.915392</td>\n",
       "      <td>9.773163</td>\n",
       "      <td>9.456699</td>\n",
       "      <td>5.562518</td>\n",
       "      <td>7.181852</td>\n",
       "      <td>4.789314</td>\n",
       "      <td>6.859702</td>\n",
       "      <td>...</td>\n",
       "      <td>4.831947</td>\n",
       "      <td>1.324495</td>\n",
       "      <td>4.502965</td>\n",
       "      <td>5.007416</td>\n",
       "      <td>3.691162</td>\n",
       "      <td>4.738859</td>\n",
       "      <td>10.121502</td>\n",
       "      <td>8.121105</td>\n",
       "      <td>2.782463</td>\n",
       "      <td>2.346718</td>\n",
       "    </tr>\n",
       "  </tbody>\n",
       "</table>\n",
       "<p>2521 rows × 500 columns</p>\n",
       "</div>"
      ],
      "text/plain": [
       "            0         1         2         3         4         5         6    \\\n",
       "0      1.000000  1.000000  1.000000  1.000000  1.000000  1.000000  1.000000   \n",
       "1      1.005822  0.981388  1.014220  1.024608  0.995049  1.023559  1.009500   \n",
       "2      1.000394  0.997335  1.016783  1.023816  1.003234  1.028121  1.001011   \n",
       "3      1.004328  0.979926  1.012642  1.021631  1.002793  1.009770  0.992114   \n",
       "4      1.017115  0.967277  1.016942  1.026909  1.012497  1.011434  0.993873   \n",
       "...         ...       ...       ...       ...       ...       ...       ...   \n",
       "2516  11.352107  4.690464  3.009516  3.815743  9.384326  9.332564  5.555462   \n",
       "2517  11.400343  4.773175  3.014679  3.844760  9.456415  9.278631  5.611444   \n",
       "2518  11.418665  4.821032  3.068188  3.819301  9.673239  9.301947  5.659929   \n",
       "2519  11.277458  4.903917  3.114986  3.871868  9.746470  9.386773  5.663361   \n",
       "2520  11.263715  4.895162  3.025863  3.915392  9.773163  9.456699  5.562518   \n",
       "\n",
       "           7         8         9    ...       490       491       492  \\\n",
       "0     1.000000  1.000000  1.000000  ...  1.000000  1.000000  1.000000   \n",
       "1     1.011352  1.018580  1.005496  ...  0.990160  1.006869  1.003837   \n",
       "2     1.024528  1.000730  1.014862  ...  0.975973  0.992872  1.000067   \n",
       "3     1.041197  0.987436  1.010726  ...  0.999743  0.993616  1.005204   \n",
       "4     1.060539  0.997686  1.003715  ...  1.010077  0.995535  1.023009   \n",
       "...        ...       ...       ...  ...       ...       ...       ...   \n",
       "2516  6.884869  4.678791  7.013313  ...  4.925660  1.350013  4.501073   \n",
       "2517  6.891161  4.774910  7.043289  ...  4.894844  1.345562  4.484495   \n",
       "2518  6.879332  4.746294  6.949219  ...  4.855008  1.353094  4.549383   \n",
       "2519  7.031112  4.770541  6.908416  ...  4.842035  1.325143  4.555606   \n",
       "2520  7.181852  4.789314  6.859702  ...  4.831947  1.324495  4.502965   \n",
       "\n",
       "           493       494       495        496       497       498       499  \n",
       "0     1.000000  1.000000  1.000000   1.000000  1.000000  1.000000  1.000000  \n",
       "1     1.004073  1.016864  1.010390   0.989885  0.998750  1.003086  0.995816  \n",
       "2     0.992331  1.016588  1.020706   0.991448  1.008949  0.976026  1.001483  \n",
       "3     0.984413  1.018556  1.022143   1.010312  1.005318  0.986322  0.990151  \n",
       "4     0.993423  1.007581  1.032421   1.008255  1.005003  0.989930  0.987871  \n",
       "...        ...       ...       ...        ...       ...       ...       ...  \n",
       "2516  5.037468  3.716649  4.697361   9.915355  8.331717  2.802581  2.341654  \n",
       "2517  5.111564  3.693656  4.728376   9.860814  8.282458  2.814214  2.308190  \n",
       "2518  5.106318  3.671803  4.775977   9.906370  8.125956  2.821968  2.317031  \n",
       "2519  5.063912  3.670842  4.733103   9.994581  8.133936  2.776908  2.356452  \n",
       "2520  5.007416  3.691162  4.738859  10.121502  8.121105  2.782463  2.346718  \n",
       "\n",
       "[2521 rows x 500 columns]"
      ]
     },
     "execution_count": 117,
     "metadata": {},
     "output_type": "execute_result"
    }
   ],
   "source": [
    "# Run the Monte Carlo simulation to forecast 10 years cumulative returns\n",
    "MC_sim.calc_cumulative_return()\n"
   ]
  },
  {
   "cell_type": "code",
   "execution_count": 118,
   "metadata": {},
   "outputs": [
    {
     "data": {
      "image/png": "[encoded data removed]",
      "text/plain": [
       "<Figure size 432x288 with 1 Axes>"
      ]
     },
     "metadata": {
      "needs_background": "light"
     },
     "output_type": "display_data"
    }
   ],
   "source": [
    "# Visualize the 10-year Monte Carlo simulation by creating an\n",
    "# overlay line plot\n",
    "mc_line_plot=MC_sim.plot_simulation()"
   ]
  },
  {
   "cell_type": "code",
   "execution_count": 119,
   "metadata": {},
   "outputs": [
    {
     "data": {
      "image/png": "[encoded data removed]",
      "text/plain": [
       "<Figure size 432x288 with 1 Axes>"
      ]
     },
     "metadata": {
      "needs_background": "light"
     },
     "output_type": "display_data"
    }
   ],
   "source": [
    "# Visualize the probability distribution of the 10-year Monte Carlo simulation \n",
    "# by plotting a histogram\n",
    "mc_prob_dist=MC_sim.plot_distribution()\n"
   ]
  },
  {
   "cell_type": "code",
   "execution_count": 123,
   "metadata": {},
   "outputs": [
    {
     "name": "stdout",
     "output_type": "stream",
     "text": [
      "count           500.000000\n",
      "mean              5.583639\n",
      "std               3.824243\n",
      "min               0.930563\n",
      "25%               3.210204\n",
      "50%               4.714813\n",
      "75%               6.649745\n",
      "max              29.899719\n",
      "95% CI Lower      1.529665\n",
      "95% CI Upper     15.708495\n",
      "Name: 2520, dtype: float64\n"
     ]
    }
   ],
   "source": [
    "# Generate summary statistics from the 10-year Monte Carlo simulation results\n",
    "# Save the results as a variable\n",
    "summary_10yr_stats=MC_sim.summarize_cumulative_return()\n",
    "\n",
    "\n",
    "# Review the 10-year Monte Carlo summary statistics\n",
    "print(Summary_10yr_stats)"
   ]
  },
  {
   "cell_type": "markdown",
   "metadata": {},
   "source": [
    "### Answer the following questions:"
   ]
  },
  {
   "cell_type": "markdown",
   "metadata": {},
   "source": [
    "#### Question: Using the current value of only the stock and bond portion of the member's portfolio and the summary statistics that you generated from the new Monte Carlo simulation, what are the lower and upper bounds for the expected value of the portfolio (with the new weights) with a 95% confidence interval?"
   ]
  },
  {
   "cell_type": "code",
   "execution_count": 124,
   "metadata": {},
   "outputs": [
    {
     "name": "stdout",
     "output_type": "stream",
     "text": [
      "The current balance of the stock and bond portion of the members portfolio in USD=$73438.200000\n"
     ]
    }
   ],
   "source": [
    "# Print the current balance of the stock and bond portion of the members portfolio\n",
    "print(f\"The current balance of the stock and bond portion of the members portfolio in USD=${total_stocks_bonds:2f}\")\n"
   ]
  },
  {
   "cell_type": "code",
   "execution_count": 126,
   "metadata": {},
   "outputs": [
    {
     "name": "stdout",
     "output_type": "stream",
     "text": [
      " After 10yrs the probable outcome with 95% confidence may be $112335.865655 or on the higher end it could be $1153603.590380\n"
     ]
    }
   ],
   "source": [
    "# Use the lower and upper `95%` confidence intervals to calculate the range of the possible outcomes for the current stock/bond portfolio\n",
    "ci_lower_ten_cumulative_return = summary_10yr_stats['95% CI Lower']*total_stocks_bonds\n",
    "ci_upper_ten_cumulative_return = summary_10yr_stats['95% CI Upper']*total_stocks_bonds\n",
    "\n",
    "# Print the result of your calculations\n",
    "print(f\" After 10yrs the probable outcome with 95% confidence may be ${ci_lower_ten_cumulative_return:2f}\"\n",
    "     f\" or on the higher end it could be ${ci_upper_ten_cumulative_return:2f}\")\n"
   ]
  },
  {
   "cell_type": "markdown",
   "metadata": {},
   "source": [
    "#### Question: Will weighting the portfolio more heavily to stocks allow the credit union members to retire after only 10 years?"
   ]
  },
  {
   "cell_type": "raw",
   "metadata": {},
   "source": [
    "**Answer** # The 30yr simulation on Bond vs stock at 40:60 weight distribution results in possible returns in the range of 675K to 14.5M $USD. A 10 yr simulation at 20:80 weight distribution for Bond Vs Stock may results in returns in the range of 112K to 1.1M $USD. Since the probable returns on a 10yr simulation is much lower than 30yr simulation, I would advice against the credit union members retiring after 10 years."
   ]
  },
  {
   "cell_type": "code",
   "execution_count": null,
   "metadata": {},
   "outputs": [],
   "source": []
  }
 ],
 "metadata": {
  "kernelspec": {
   "display_name": "Python (atmdev)",
   "language": "python",
   "name": "atmdev"
  },
  "language_info": {
   "codemirror_mode": {
    "name": "ipython",
    "version": 3
   },
   "file_extension": ".py",
   "mimetype": "text/x-python",
   "name": "python",
   "nbconvert_exporter": "python",
   "pygments_lexer": "ipython3",
   "version": "3.7.7"
  }
 },
 "nbformat": 4,
 "nbformat_minor": 4
}
